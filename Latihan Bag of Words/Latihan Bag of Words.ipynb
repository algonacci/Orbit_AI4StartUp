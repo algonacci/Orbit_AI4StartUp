{
 "cells": [
  {
   "cell_type": "code",
   "execution_count": 1,
   "id": "cf31b978",
   "metadata": {},
   "outputs": [],
   "source": [
    "import pandas as pd\n",
    "import nltk\n",
    "import re\n",
    "from sklearn.feature_extraction.text import CountVectorizer"
   ]
  },
  {
   "cell_type": "code",
   "execution_count": 2,
   "id": "9e998d37",
   "metadata": {},
   "outputs": [],
   "source": [
    "paragraf = '''\n",
    "Kita membutuhkan chatbot kesehatan mental.\n",
    "Dia juga menyenangkan untuk diajak bicara.\n",
    "Chatbot tidak akan pernah menggantikan terapi atau terapis.\n",
    "'''"
   ]
  },
  {
   "cell_type": "code",
   "execution_count": 3,
   "id": "83f9d824",
   "metadata": {},
   "outputs": [
    {
     "data": {
      "text/plain": [
       "['\\nKita membutuhkan chatbot kesehatan mental.',\n",
       " 'Dia juga menyenangkan untuk diajak bicara.',\n",
       " 'Chatbot tidak akan pernah menggantikan terapi atau terapis.']"
      ]
     },
     "execution_count": 3,
     "metadata": {},
     "output_type": "execute_result"
    }
   ],
   "source": [
    "kalimat = nltk.sent_tokenize(paragraf)\n",
    "tabel_kata = []\n",
    "kalimat"
   ]
  },
  {
   "cell_type": "code",
   "execution_count": 4,
   "id": "ad93fc7b",
   "metadata": {},
   "outputs": [],
   "source": [
    "for i in range(len(kalimat)):\n",
    "    kata = re.sub('[^a-zA-Z]', ' ', kalimat[i])\n",
    "    kata = kata.lower()\n",
    "    kata = kata.split()\n",
    "    kata = ' '.join(kata)\n",
    "    tabel_kata.append(kata)"
   ]
  },
  {
   "cell_type": "code",
   "execution_count": 5,
   "id": "6e57234b",
   "metadata": {},
   "outputs": [
    {
     "data": {
      "text/plain": [
       "['kita membutuhkan chatbot kesehatan mental',\n",
       " 'dia juga menyenangkan untuk diajak bicara',\n",
       " 'chatbot tidak akan pernah menggantikan terapi atau terapis']"
      ]
     },
     "execution_count": 5,
     "metadata": {},
     "output_type": "execute_result"
    }
   ],
   "source": [
    "tabel_kata"
   ]
  },
  {
   "cell_type": "code",
   "execution_count": 6,
   "id": "7b1cdf78",
   "metadata": {},
   "outputs": [
    {
     "data": {
      "text/plain": [
       "array([[0, 0, 0, 1, 0, 0, 0, 1, 1, 1, 0, 1, 0, 0, 0, 0, 0, 0],\n",
       "       [0, 0, 1, 0, 1, 1, 1, 0, 0, 0, 0, 0, 1, 0, 0, 0, 0, 1],\n",
       "       [1, 1, 0, 1, 0, 0, 0, 0, 0, 0, 1, 0, 0, 1, 1, 1, 1, 0]],\n",
       "      dtype=int64)"
      ]
     },
     "execution_count": 6,
     "metadata": {},
     "output_type": "execute_result"
    }
   ],
   "source": [
    "cv = CountVectorizer()\n",
    "X = cv.fit_transform(tabel_kata).toarray()\n",
    "X"
   ]
  },
  {
   "cell_type": "code",
   "execution_count": 7,
   "id": "115b50a7",
   "metadata": {},
   "outputs": [],
   "source": [
    "index = ['Kalimat 1','Kalimat 2','Kalimat 3']"
   ]
  },
  {
   "cell_type": "code",
   "execution_count": 8,
   "id": "732bac2c",
   "metadata": {
    "scrolled": true
   },
   "outputs": [
    {
     "data": {
      "text/html": [
       "<div>\n",
       "<style scoped>\n",
       "    .dataframe tbody tr th:only-of-type {\n",
       "        vertical-align: middle;\n",
       "    }\n",
       "\n",
       "    .dataframe tbody tr th {\n",
       "        vertical-align: top;\n",
       "    }\n",
       "\n",
       "    .dataframe thead th {\n",
       "        text-align: right;\n",
       "    }\n",
       "</style>\n",
       "<table border=\"1\" class=\"dataframe\">\n",
       "  <thead>\n",
       "    <tr style=\"text-align: right;\">\n",
       "      <th></th>\n",
       "      <th>akan</th>\n",
       "      <th>atau</th>\n",
       "      <th>bicara</th>\n",
       "      <th>chatbot</th>\n",
       "      <th>dia</th>\n",
       "      <th>diajak</th>\n",
       "      <th>juga</th>\n",
       "      <th>kesehatan</th>\n",
       "      <th>kita</th>\n",
       "      <th>membutuhkan</th>\n",
       "      <th>menggantikan</th>\n",
       "      <th>mental</th>\n",
       "      <th>menyenangkan</th>\n",
       "      <th>pernah</th>\n",
       "      <th>terapi</th>\n",
       "      <th>terapis</th>\n",
       "      <th>tidak</th>\n",
       "      <th>untuk</th>\n",
       "    </tr>\n",
       "  </thead>\n",
       "  <tbody>\n",
       "    <tr>\n",
       "      <th>Kalimat 1</th>\n",
       "      <td>0</td>\n",
       "      <td>0</td>\n",
       "      <td>0</td>\n",
       "      <td>1</td>\n",
       "      <td>0</td>\n",
       "      <td>0</td>\n",
       "      <td>0</td>\n",
       "      <td>1</td>\n",
       "      <td>1</td>\n",
       "      <td>1</td>\n",
       "      <td>0</td>\n",
       "      <td>1</td>\n",
       "      <td>0</td>\n",
       "      <td>0</td>\n",
       "      <td>0</td>\n",
       "      <td>0</td>\n",
       "      <td>0</td>\n",
       "      <td>0</td>\n",
       "    </tr>\n",
       "    <tr>\n",
       "      <th>Kalimat 2</th>\n",
       "      <td>0</td>\n",
       "      <td>0</td>\n",
       "      <td>1</td>\n",
       "      <td>0</td>\n",
       "      <td>1</td>\n",
       "      <td>1</td>\n",
       "      <td>1</td>\n",
       "      <td>0</td>\n",
       "      <td>0</td>\n",
       "      <td>0</td>\n",
       "      <td>0</td>\n",
       "      <td>0</td>\n",
       "      <td>1</td>\n",
       "      <td>0</td>\n",
       "      <td>0</td>\n",
       "      <td>0</td>\n",
       "      <td>0</td>\n",
       "      <td>1</td>\n",
       "    </tr>\n",
       "    <tr>\n",
       "      <th>Kalimat 3</th>\n",
       "      <td>1</td>\n",
       "      <td>1</td>\n",
       "      <td>0</td>\n",
       "      <td>1</td>\n",
       "      <td>0</td>\n",
       "      <td>0</td>\n",
       "      <td>0</td>\n",
       "      <td>0</td>\n",
       "      <td>0</td>\n",
       "      <td>0</td>\n",
       "      <td>1</td>\n",
       "      <td>0</td>\n",
       "      <td>0</td>\n",
       "      <td>1</td>\n",
       "      <td>1</td>\n",
       "      <td>1</td>\n",
       "      <td>1</td>\n",
       "      <td>0</td>\n",
       "    </tr>\n",
       "  </tbody>\n",
       "</table>\n",
       "</div>"
      ],
      "text/plain": [
       "           akan  atau  bicara  chatbot  dia  diajak  juga  kesehatan  kita  \\\n",
       "Kalimat 1     0     0       0        1    0       0     0          1     1   \n",
       "Kalimat 2     0     0       1        0    1       1     1          0     0   \n",
       "Kalimat 3     1     1       0        1    0       0     0          0     0   \n",
       "\n",
       "           membutuhkan  menggantikan  mental  menyenangkan  pernah  terapi  \\\n",
       "Kalimat 1            1             0       1             0       0       0   \n",
       "Kalimat 2            0             0       0             1       0       0   \n",
       "Kalimat 3            0             1       0             0       1       1   \n",
       "\n",
       "           terapis  tidak  untuk  \n",
       "Kalimat 1        0      0      0  \n",
       "Kalimat 2        0      0      1  \n",
       "Kalimat 3        1      1      0  "
      ]
     },
     "execution_count": 8,
     "metadata": {},
     "output_type": "execute_result"
    }
   ],
   "source": [
    "kata_kata = cv.get_feature_names()\n",
    "bow = pd.DataFrame(X, columns=kata_kata, index=index)\n",
    "bow"
   ]
  },
  {
   "cell_type": "code",
   "execution_count": 11,
   "id": "c47271be",
   "metadata": {},
   "outputs": [
    {
     "data": {
      "image/png": "[encoded data removed]",
      "text/plain": [
       "<Figure size 432x288 with 1 Axes>"
      ]
     },
     "metadata": {
      "needs_background": "light"
     },
     "output_type": "display_data"
    }
   ],
   "source": [
    "from wordcloud import WordCloud, STOPWORDS, ImageColorGenerator\n",
    "import matplotlib.pyplot as plt\n",
    "from PIL import Image\n",
    "\n",
    "# Start with one review:\n",
    "text = str(kata_kata).replace(\"'\",\"\")\n",
    "\n",
    "# Create and generate a word cloud image:\n",
    "wordcloud = WordCloud(max_font_size=30, max_words=100, background_color=\"white\", prefer_horizontal=1).generate(text)\n",
    "plt.figure()\n",
    "plt.imshow(wordcloud, interpolation=\"bilinear\")\n",
    "plt.title(\"Kamus Kata\", fontsize=30)\n",
    "plt.axis(\"off\")\n",
    "plt.show()"
   ]
  },
  {
   "cell_type": "code",
   "execution_count": 12,
   "id": "8bfd7c33",
   "metadata": {},
   "outputs": [
    {
     "data": {
      "text/plain": [
       "akan            1\n",
       "atau            1\n",
       "bicara          1\n",
       "chatbot         2\n",
       "dia             1\n",
       "diajak          1\n",
       "juga            1\n",
       "kesehatan       1\n",
       "kita            1\n",
       "membutuhkan     1\n",
       "menggantikan    1\n",
       "mental          1\n",
       "menyenangkan    1\n",
       "pernah          1\n",
       "terapi          1\n",
       "terapis         1\n",
       "tidak           1\n",
       "untuk           1\n",
       "dtype: int64"
      ]
     },
     "execution_count": 12,
     "metadata": {},
     "output_type": "execute_result"
    }
   ],
   "source": [
    "bow.sum()"
   ]
  },
  {
   "cell_type": "code",
   "execution_count": 13,
   "id": "4d34be43",
   "metadata": {},
   "outputs": [
    {
     "data": {
      "text/plain": [
       "19"
      ]
     },
     "execution_count": 13,
     "metadata": {},
     "output_type": "execute_result"
    }
   ],
   "source": [
    "bow.sum().sum()"
   ]
  }
 ],
 "metadata": {
  "kernelspec": {
   "display_name": "Python 3 (ipykernel)",
   "language": "python",
   "name": "python3"
  },
  "language_info": {
   "codemirror_mode": {
    "name": "ipython",
    "version": 3
   },
   "file_extension": ".py",
   "mimetype": "text/x-python",
   "name": "python",
   "nbconvert_exporter": "python",
   "pygments_lexer": "ipython3",
   "version": "3.9.6"
  }
 },
 "nbformat": 4,
 "nbformat_minor": 5
}
