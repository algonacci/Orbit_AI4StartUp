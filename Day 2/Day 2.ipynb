{
 "cells": [
  {
   "cell_type": "markdown",
   "id": "db6d02df",
   "metadata": {},
   "source": [
    "## Basic Python Programming Language"
   ]
  },
  {
   "cell_type": "code",
   "execution_count": 3,
   "id": "a2f5ca64",
   "metadata": {},
   "outputs": [
    {
     "name": "stdout",
     "output_type": "stream",
     "text": [
      "2+2\n"
     ]
    }
   ],
   "source": [
    "print(\"2+2\")"
   ]
  },
  {
   "cell_type": "code",
   "execution_count": 5,
   "id": "d26807f3",
   "metadata": {},
   "outputs": [
    {
     "name": "stdout",
     "output_type": "stream",
     "text": [
      "22\n"
     ]
    }
   ],
   "source": [
    "print(\"2\" + \"2\")"
   ]
  },
  {
   "cell_type": "code",
   "execution_count": 6,
   "id": "3f0692d0",
   "metadata": {},
   "outputs": [
    {
     "name": "stdout",
     "output_type": "stream",
     "text": [
      "4\n"
     ]
    }
   ],
   "source": [
    "print(2+2)"
   ]
  },
  {
   "cell_type": "code",
   "execution_count": 7,
   "id": "07a93896",
   "metadata": {},
   "outputs": [],
   "source": [
    "nama_buah = \"apel\"\n",
    "berat = 2.1\n",
    "is_sweet = True\n",
    "jumlah = 10\n",
    "tahun_panen = 2021"
   ]
  },
  {
   "cell_type": "code",
   "execution_count": 8,
   "id": "70c62e78",
   "metadata": {},
   "outputs": [
    {
     "data": {
      "text/plain": [
       "str"
      ]
     },
     "execution_count": 8,
     "metadata": {},
     "output_type": "execute_result"
    }
   ],
   "source": [
    "type(nama_buah)"
   ]
  },
  {
   "cell_type": "code",
   "execution_count": 9,
   "id": "f4999841",
   "metadata": {},
   "outputs": [
    {
     "data": {
      "text/plain": [
       "float"
      ]
     },
     "execution_count": 9,
     "metadata": {},
     "output_type": "execute_result"
    }
   ],
   "source": [
    "type(berat)"
   ]
  },
  {
   "cell_type": "code",
   "execution_count": 10,
   "id": "c4a7fdc3",
   "metadata": {},
   "outputs": [
    {
     "data": {
      "text/plain": [
       "bool"
      ]
     },
     "execution_count": 10,
     "metadata": {},
     "output_type": "execute_result"
    }
   ],
   "source": [
    "type(is_sweet)"
   ]
  },
  {
   "cell_type": "code",
   "execution_count": 11,
   "id": "b11b745a",
   "metadata": {},
   "outputs": [
    {
     "data": {
      "text/plain": [
       "int"
      ]
     },
     "execution_count": 11,
     "metadata": {},
     "output_type": "execute_result"
    }
   ],
   "source": [
    "type(jumlah)"
   ]
  },
  {
   "cell_type": "code",
   "execution_count": 12,
   "id": "0226c425",
   "metadata": {},
   "outputs": [
    {
     "data": {
      "text/plain": [
       "int"
      ]
     },
     "execution_count": 12,
     "metadata": {},
     "output_type": "execute_result"
    }
   ],
   "source": [
    "type(tahun_panen)"
   ]
  },
  {
   "cell_type": "code",
   "execution_count": 49,
   "id": "eea14465",
   "metadata": {},
   "outputs": [],
   "source": [
    "a = 5\n",
    "b = 2"
   ]
  },
  {
   "cell_type": "code",
   "execution_count": 38,
   "id": "e1959048",
   "metadata": {},
   "outputs": [
    {
     "data": {
      "text/plain": [
       "7"
      ]
     },
     "execution_count": 38,
     "metadata": {},
     "output_type": "execute_result"
    }
   ],
   "source": [
    "a + b"
   ]
  },
  {
   "cell_type": "code",
   "execution_count": 39,
   "id": "7f77c7f0",
   "metadata": {},
   "outputs": [
    {
     "data": {
      "text/plain": [
       "3"
      ]
     },
     "execution_count": 39,
     "metadata": {},
     "output_type": "execute_result"
    }
   ],
   "source": [
    "a - b"
   ]
  },
  {
   "cell_type": "code",
   "execution_count": 40,
   "id": "268b0d50",
   "metadata": {},
   "outputs": [
    {
     "data": {
      "text/plain": [
       "10"
      ]
     },
     "execution_count": 40,
     "metadata": {},
     "output_type": "execute_result"
    }
   ],
   "source": [
    "a * b"
   ]
  },
  {
   "cell_type": "code",
   "execution_count": 41,
   "id": "d6e2f8ed",
   "metadata": {},
   "outputs": [
    {
     "data": {
      "text/plain": [
       "2.5"
      ]
     },
     "execution_count": 41,
     "metadata": {},
     "output_type": "execute_result"
    }
   ],
   "source": [
    "a / b"
   ]
  },
  {
   "cell_type": "code",
   "execution_count": 42,
   "id": "97000fc8",
   "metadata": {},
   "outputs": [
    {
     "data": {
      "text/plain": [
       "1"
      ]
     },
     "execution_count": 42,
     "metadata": {},
     "output_type": "execute_result"
    }
   ],
   "source": [
    "a % b"
   ]
  },
  {
   "cell_type": "code",
   "execution_count": 43,
   "id": "761bd3fc",
   "metadata": {},
   "outputs": [
    {
     "data": {
      "text/plain": [
       "25"
      ]
     },
     "execution_count": 43,
     "metadata": {},
     "output_type": "execute_result"
    }
   ],
   "source": [
    "a ** b"
   ]
  },
  {
   "cell_type": "markdown",
   "id": "09297147",
   "metadata": {},
   "source": [
    "## Operator Logika"
   ]
  },
  {
   "cell_type": "code",
   "execution_count": 44,
   "id": "0af3f95d",
   "metadata": {},
   "outputs": [
    {
     "data": {
      "text/plain": [
       "True"
      ]
     },
     "execution_count": 44,
     "metadata": {},
     "output_type": "execute_result"
    }
   ],
   "source": [
    "a > b"
   ]
  },
  {
   "cell_type": "code",
   "execution_count": 45,
   "id": "2c24bcbc",
   "metadata": {},
   "outputs": [
    {
     "data": {
      "text/plain": [
       "False"
      ]
     },
     "execution_count": 45,
     "metadata": {},
     "output_type": "execute_result"
    }
   ],
   "source": [
    "a < b"
   ]
  },
  {
   "cell_type": "code",
   "execution_count": 50,
   "id": "063f2db4",
   "metadata": {},
   "outputs": [
    {
     "data": {
      "text/plain": [
       "False"
      ]
     },
     "execution_count": 50,
     "metadata": {},
     "output_type": "execute_result"
    }
   ],
   "source": [
    "a == b"
   ]
  },
  {
   "cell_type": "code",
   "execution_count": 51,
   "id": "2b890ec4",
   "metadata": {},
   "outputs": [
    {
     "data": {
      "text/plain": [
       "True"
      ]
     },
     "execution_count": 51,
     "metadata": {},
     "output_type": "execute_result"
    }
   ],
   "source": [
    "a != b"
   ]
  },
  {
   "cell_type": "markdown",
   "id": "459c3e0f",
   "metadata": {},
   "source": [
    "## Operator Logika"
   ]
  },
  {
   "cell_type": "code",
   "execution_count": 34,
   "id": "1b97f605",
   "metadata": {},
   "outputs": [],
   "source": [
    "price = 3"
   ]
  },
  {
   "cell_type": "code",
   "execution_count": 36,
   "id": "b1058ca3",
   "metadata": {},
   "outputs": [
    {
     "name": "stdout",
     "output_type": "stream",
     "text": [
      "harga apel: 3\n"
     ]
    }
   ],
   "source": [
    "print(f\"harga apel: {price}\")"
   ]
  },
  {
   "cell_type": "code",
   "execution_count": 31,
   "id": "6fa554d2",
   "metadata": {},
   "outputs": [],
   "source": [
    "nama_hari = {\n",
    "        0: 'Senin',\n",
    "        1: 'Selasa',\n",
    "        2: 'Rabu',\n",
    "        3: 'Kamis',\n",
    "        4: 'Jumat',\n",
    "        5: 'Sabtu',\n",
    "        6: 'Minggu'\n",
    "    }"
   ]
  },
  {
   "cell_type": "code",
   "execution_count": 32,
   "id": "5559bfba",
   "metadata": {},
   "outputs": [
    {
     "name": "stdout",
     "output_type": "stream",
     "text": [
      "Selasa\n"
     ]
    }
   ],
   "source": [
    "print(nama_hari[1])"
   ]
  },
  {
   "cell_type": "code",
   "execution_count": 59,
   "id": "a38d2d90",
   "metadata": {},
   "outputs": [],
   "source": [
    "film_dict = {\n",
    "    'Fajar Bustomi' : 'Dilan 1991',\n",
    "    'Riri Riza' : 'Ada Apa Dengan Cinta 2',\n",
    "    'Aggi Umbara' : 'Warkop DKI Reborn'\n",
    "}\n",
    "\n",
    "film_list = ['Dilan 1991', 'Ada Apa Dengan Cinta 2', 'Warkop DKI Reborn']"
   ]
  },
  {
   "cell_type": "code",
   "execution_count": 61,
   "id": "f83ec857",
   "metadata": {},
   "outputs": [
    {
     "name": "stdout",
     "output_type": "stream",
     "text": [
      "Dilan 1991\n",
      "Ada Apa Dengan Cinta 2\n"
     ]
    }
   ],
   "source": [
    "print(film_dict['Fajar Bustomi'])\n",
    "print(film_list[1])"
   ]
  },
  {
   "cell_type": "code",
   "execution_count": 62,
   "id": "be9305d3",
   "metadata": {},
   "outputs": [],
   "source": [
    "def nama_fungsi():\n",
    "    print(\"Baris ini merupakan hasil dari fungsi\")"
   ]
  },
  {
   "cell_type": "code",
   "execution_count": 63,
   "id": "eefb5cbc",
   "metadata": {},
   "outputs": [
    {
     "name": "stdout",
     "output_type": "stream",
     "text": [
      "Baris ini merupakan hasil dari fungsi\n"
     ]
    }
   ],
   "source": [
    "nama_fungsi()"
   ]
  },
  {
   "cell_type": "markdown",
   "id": "6ae3912e",
   "metadata": {},
   "source": [
    "## Quiz"
   ]
  },
  {
   "cell_type": "code",
   "execution_count": 65,
   "id": "5fd63dea",
   "metadata": {},
   "outputs": [],
   "source": [
    "a = 30\n",
    "b = 20 \n",
    "c = 10"
   ]
  },
  {
   "cell_type": "code",
   "execution_count": 67,
   "id": "2d560ddd",
   "metadata": {},
   "outputs": [
    {
     "name": "stdout",
     "output_type": "stream",
     "text": [
      "no\n"
     ]
    }
   ],
   "source": [
    "if (a + b) / c == 1 and c - b - a == 0:\n",
    "    print('yes')\n",
    "else:\n",
    "    print('no')"
   ]
  },
  {
   "cell_type": "code",
   "execution_count": 68,
   "id": "1d512fda",
   "metadata": {},
   "outputs": [
    {
     "name": "stdout",
     "output_type": "stream",
     "text": [
      "perulangan ke-0\n",
      "perulangan ke-1\n",
      "perulangan ke-2\n",
      "perulangan ke-3\n",
      "perulangan ke-4\n",
      "perulangan ke-5\n",
      "perulangan ke-6\n",
      "perulangan ke-7\n",
      "perulangan ke-8\n",
      "perulangan ke-9\n"
     ]
    }
   ],
   "source": [
    "ulang = 10\n",
    "\n",
    "for i in range(ulang):\n",
    "    print(f\"perulangan ke-{i}\")"
   ]
  },
  {
   "cell_type": "code",
   "execution_count": 69,
   "id": "f62a14a6",
   "metadata": {},
   "outputs": [
    {
     "name": "stdout",
     "output_type": "stream",
     "text": [
      "1\n",
      "2\n",
      "fizz\n",
      "4\n",
      "buzz\n",
      "fizz\n",
      "7\n",
      "8\n",
      "fizz\n",
      "buzz\n",
      "11\n",
      "fizz\n",
      "13\n",
      "14\n",
      "fizz buzz\n"
     ]
    }
   ],
   "source": [
    "for i in range(1, 16):\n",
    "    out = list()\n",
    "    if i % 3 == 0:\n",
    "        out.append('fizz')\n",
    "    if i % 5 == 0:\n",
    "        out.append('buzz')\n",
    "    print(i) if not out else print(' '.join(out))"
   ]
  }
 ],
 "metadata": {
  "kernelspec": {
   "display_name": "Python 3 (ipykernel)",
   "language": "python",
   "name": "python3"
  },
  "language_info": {
   "codemirror_mode": {
    "name": "ipython",
    "version": 3
   },
   "file_extension": ".py",
   "mimetype": "text/x-python",
   "name": "python",
   "nbconvert_exporter": "python",
   "pygments_lexer": "ipython3",
   "version": "3.9.6"
  }
 },
 "nbformat": 4,
 "nbformat_minor": 5
}
