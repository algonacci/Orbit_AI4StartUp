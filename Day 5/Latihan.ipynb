{
 "cells": [
  {
   "cell_type": "markdown",
   "id": "7453995a",
   "metadata": {},
   "source": [
    "# Mengitung Luas dan Keliling Persegi"
   ]
  },
  {
   "cell_type": "code",
   "execution_count": 10,
   "id": "2b709235",
   "metadata": {},
   "outputs": [
    {
     "name": "stdout",
     "output_type": "stream",
     "text": [
      "MENGHITUNG LUAS * KELILING PERSEGI\n"
     ]
    }
   ],
   "source": [
    "print(\"MENGHITUNG LUAS * KELILING PERSEGI\")"
   ]
  },
  {
   "cell_type": "code",
   "execution_count": 18,
   "id": "4954e4cc",
   "metadata": {},
   "outputs": [
    {
     "name": "stdout",
     "output_type": "stream",
     "text": [
      "\n",
      "Masukan Panjang Sisi dalam cm: 8\n"
     ]
    }
   ],
   "source": [
    "s = float(input(\"\\nMasukan Panjang Sisi dalam cm: \"))"
   ]
  },
  {
   "cell_type": "code",
   "execution_count": 19,
   "id": "8bcde9a7",
   "metadata": {},
   "outputs": [],
   "source": [
    "luas = s**2\n",
    "keliling = 4 * s"
   ]
  },
  {
   "cell_type": "code",
   "execution_count": 20,
   "id": "be1ed1f2",
   "metadata": {},
   "outputs": [
    {
     "name": "stdout",
     "output_type": "stream",
     "text": [
      "\n",
      "Luas Persegi \t\t: 64.0 cm^2\n",
      "\n",
      "Keliling Persegi \t: 32.0 cm^2\n"
     ]
    }
   ],
   "source": [
    "print(\"\\nLuas Persegi \\t\\t:\",luas,\"cm^2\")\n",
    "print(\"\\nKeliling Persegi \\t:\",keliling,\"cm^2\")"
   ]
  },
  {
   "cell_type": "markdown",
   "id": "23caa05e",
   "metadata": {},
   "source": [
    "# Menghitung volume dan luas permukaan bola"
   ]
  },
  {
   "cell_type": "code",
   "execution_count": 21,
   "id": "b3c287d8",
   "metadata": {},
   "outputs": [
    {
     "name": "stdout",
     "output_type": "stream",
     "text": [
      "MEHITUNG VOLUME DAN LUAS PERMUKAAN BOLA\n"
     ]
    }
   ],
   "source": [
    "print(\"MEHITUNG VOLUME DAN LUAS PERMUKAAN BOLA\")"
   ]
  },
  {
   "cell_type": "code",
   "execution_count": 32,
   "id": "0d6f3609",
   "metadata": {},
   "outputs": [
    {
     "name": "stdout",
     "output_type": "stream",
     "text": [
      "\n",
      "Masukan jari-jari dalam cm: 1\n"
     ]
    }
   ],
   "source": [
    "jari_jari = float(input(\"\\nMasukan jari-jari dalam cm: \"))"
   ]
  },
  {
   "cell_type": "code",
   "execution_count": 35,
   "id": "f9e326c3",
   "metadata": {},
   "outputs": [
    {
     "name": "stdout",
     "output_type": "stream",
     "text": [
      "\n",
      "Masukan jari-jari dalam cm: 56\n",
      "\n",
      "Volume Bola adalah \t\t: 735245.6533333333 cm^3\n",
      "Luas Permukaan Bola adalah\t: 39388.16 cm^2\n"
     ]
    }
   ],
   "source": [
    "jari_jari = float(input(\"\\nMasukan jari-jari dalam cm: \"))\n",
    "phi = 3.14\n",
    "volume = 4/3 * phi * jari_jari**3\n",
    "luas_permukaan = 4 * phi * jari_jari**2\n",
    "print(\"\\nVolume Bola adalah \\t\\t:\",volume,\"cm^3\")\n",
    "print(\"Luas Permukaan Bola adalah\\t:\",luas_permukaan,\"cm^2\")"
   ]
  },
  {
   "cell_type": "markdown",
   "id": "d6ff9af5",
   "metadata": {},
   "source": [
    "# Lanjutan"
   ]
  },
  {
   "cell_type": "code",
   "execution_count": 45,
   "id": "170dc8f1",
   "metadata": {},
   "outputs": [
    {
     "name": "stdout",
     "output_type": "stream",
     "text": [
      "Masukkan bilangan berbasis 10 (Desimal)\n",
      "50\n",
      "a. Desimal menjadi Heksadesimal\n",
      "b. Desimal menjadi Oktal;\n",
      "c. Desimal menjadi Biner;\n",
      "Pilih konversi :- \n",
      "c\n",
      "Biner dari bilangan 50 adalah 110010\n"
     ]
    }
   ],
   "source": [
    "number = int(input(\"Masukkan bilangan berbasis 10 (Desimal)\\n\"))\n",
    "\n",
    "print(\"a. Desimal menjadi Heksadesimal\")\n",
    "print(\"b. Desimal menjadi Oktal;\")\n",
    "print(\"c. Desimal menjadi Biner;\")\n",
    "\n",
    "print(\"Pilih konversi :- \")\n",
    "choice = input()\n",
    "\n",
    "if choice == 'a':\n",
    "    print(\"Heksadesimal dari bilangan \" + str(number) +\n",
    "         \" adalah \" + hex(number).lstrip(\"0x\").rstrip(\"L\"))\n",
    "    \n",
    "if choice == 'b':\n",
    "    print(\"Oktal dari bilangan \" + str(number) +\n",
    "         \" adalah \" + oct(number).lstrip(\"0o\").rstrip(\"L\")) \n",
    "\n",
    "if choice == 'c':\n",
    "    print(\"Biner dari bilangan \" + str(number) + \n",
    "         \" adalah \" + bin(number).lstrip(\"0b\").rstrip(\"L\"))"
   ]
  },
  {
   "cell_type": "markdown",
   "id": "4510afd6",
   "metadata": {},
   "source": [
    "## PROGRAM MENGHITUNG VOLUME DAN LUAS PERMUKAAN"
   ]
  },
  {
   "cell_type": "code",
   "execution_count": 49,
   "id": "818683ea",
   "metadata": {},
   "outputs": [
    {
     "name": "stdout",
     "output_type": "stream",
     "text": [
      "SELAMAT DATANG DI PROGRAM\n",
      "MENGHITUNG VOLUME & LUAS PERMUKAAN BOLA\n",
      "\n",
      "Masukkan jari-jari dalam cm: 45\n",
      "\n",
      "Pilih 1 untuk menghitung volume\n",
      "Pilih 2 untuk menghitung luas permukaan\n",
      "\n",
      "Input pilihan: 2\n",
      "Luas Permukaan Bola adalah:  25446.90049335 cm^2\n",
      "\n",
      "Terima kasih telah menggunakan program ini\n"
     ]
    }
   ],
   "source": [
    "print(\"SELAMAT DATANG DI PROGRAM\\nMENGHITUNG VOLUME & LUAS PERMUKAAN BOLA\")\n",
    "\n",
    "jari_jari = float(input(\"\\nMasukkan jari-jari dalam cm: \"))\n",
    "print(\"\\nPilih 1 untuk menghitung volume\\nPilih 2 untuk menghitung luas permukaan\")\n",
    "pilihan = input(\"\\nInput pilihan: \")\n",
    "phi = 3.1415926535\n",
    "\n",
    "if pilihan == \"1\":\n",
    "    volume = 4/3 * phi * jari_jari**3\n",
    "    print(\"\\nVolume Bola adalah: \",volume, \"cm^3\")\n",
    "elif pilihan == \"2\":\n",
    "    luas_permukaan = 4 * phi * jari_jari**2\n",
    "    print(\"Luas Permukaan Bola adalah: \",luas_permukaan, \"cm^2\")\n",
    "else:\n",
    "    print(\"\\nMaaf, pilihan tidak tersedia\")\n",
    "    \n",
    "print(\"\\nTerima kasih telah menggunakan program ini\")"
   ]
  },
  {
   "cell_type": "code",
   "execution_count": 55,
   "id": "58fe8de8",
   "metadata": {},
   "outputs": [
    {
     "name": "stdout",
     "output_type": "stream",
     "text": [
      "SELAMAT DATANG DI PROGRAM\n",
      "MENGHITUNG VOLUME & LUAS PERMUKAAN BOLA\n",
      "\n",
      "Pilih 1 untuk melanjutkan\n",
      "Pilih 2 untuk keluar\n",
      "\n",
      "Input Pilihan: 1\n",
      "\n",
      "Masukkan jari-jari dalam cm: 23\n",
      "\n",
      "Pilih 1 untuk menghitung volume\n",
      "Pilih 2 untuk menghitung luas permukaan\n",
      "\n",
      "Input pilihan: 1\n",
      "\n",
      "Volume Bola adalah:  50965.01042017934 cm^3\n",
      "\n",
      "Pilih 1 untuk melanjutkan\n",
      "Pilih 2 untuk keluar\n",
      "\n",
      "Input Pilihan: 1\n",
      "\n",
      "Masukkan jari-jari dalam cm: 23\n",
      "\n",
      "Pilih 1 untuk menghitung volume\n",
      "Pilih 2 untuk menghitung luas permukaan\n",
      "\n",
      "Input pilihan: 2\n",
      "Luas Permukaan Bola adalah:  6647.610054806 cm^2\n",
      "\n",
      "Pilih 1 untuk melanjutkan\n",
      "Pilih 2 untuk keluar\n",
      "\n",
      "Input Pilihan: 5\n",
      "Maaf, pilihan tersebut tidak ada\n",
      "\n",
      "Pilih 1 untuk melanjutkan\n",
      "Pilih 2 untuk keluar\n",
      "\n",
      "Input Pilihan: 2\n"
     ]
    }
   ],
   "source": [
    "print(\"SELAMAT DATANG DI PROGRAM\\nMENGHITUNG VOLUME & LUAS PERMUKAAN BOLA\")\n",
    "\n",
    "def hitung():\n",
    "    jari_jari = float(input(\"\\nMasukkan jari-jari dalam cm: \"))\n",
    "    print(\"\\nPilih 1 untuk menghitung volume\\nPilih 2 untuk menghitung luas permukaan\")\n",
    "    pilihan = input(\"\\nInput pilihan: \")\n",
    "    phi = 3.1415926535\n",
    "\n",
    "    if pilihan == \"1\":\n",
    "        volume = 4/3 * phi * jari_jari**3\n",
    "        print(\"\\nVolume Bola adalah: \",volume, \"cm^3\")\n",
    "    elif pilihan == \"2\":\n",
    "        luas_permukaan = 4 * phi * jari_jari**2\n",
    "        print(\"Luas Permukaan Bola adalah: \",luas_permukaan, \"cm^2\")\n",
    "    else:\n",
    "        print(\"\\nMaaf, pilihan tidak tersedia\")\n",
    "        \n",
    "if __name__ == '__main__':\n",
    "    while True:\n",
    "        print(\"\\nPilih 1 untuk melanjutkan\\nPilih 2 untuk keluar\")\n",
    "        pilihan_IO = input(\"\\nInput Pilihan: \")\n",
    "        \n",
    "        if pilihan_IO == \"1\":\n",
    "            hitung()\n",
    "        elif pilihan_IO == \"2\":\n",
    "            break\n",
    "        else:\n",
    "            print(\"Maaf, pilihan tersebut tidak ada\")"
   ]
  },
  {
   "cell_type": "code",
   "execution_count": null,
   "id": "7f005d2a",
   "metadata": {},
   "outputs": [],
   "source": []
  },
  {
   "cell_type": "code",
   "execution_count": null,
   "id": "d01e644c",
   "metadata": {},
   "outputs": [],
   "source": []
  },
  {
   "cell_type": "code",
   "execution_count": null,
   "id": "1d982fd1",
   "metadata": {},
   "outputs": [],
   "source": []
  }
 ],
 "metadata": {
  "kernelspec": {
   "display_name": "Python 3 (ipykernel)",
   "language": "python",
   "name": "python3"
  },
  "language_info": {
   "codemirror_mode": {
    "name": "ipython",
    "version": 3
   },
   "file_extension": ".py",
   "mimetype": "text/x-python",
   "name": "python",
   "nbconvert_exporter": "python",
   "pygments_lexer": "ipython3",
   "version": "3.9.6"
  }
 },
 "nbformat": 4,
 "nbformat_minor": 5
}
