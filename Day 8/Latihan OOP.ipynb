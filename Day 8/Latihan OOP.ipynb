{
 "cells": [
  {
   "cell_type": "code",
   "execution_count": 1,
   "id": "6b2cc0d5",
   "metadata": {},
   "outputs": [
    {
     "name": "stdout",
     "output_type": "stream",
     "text": [
      "wokee\n"
     ]
    }
   ],
   "source": [
    "# Fungsi\n",
    "def cetak(x):\n",
    "    print(x)\n",
    "    \n",
    "cetak(\"wokee\")"
   ]
  },
  {
   "cell_type": "code",
   "execution_count": 5,
   "id": "4a268a26",
   "metadata": {},
   "outputs": [
    {
     "data": {
      "text/plain": [
       "12"
      ]
     },
     "execution_count": 5,
     "metadata": {},
     "output_type": "execute_result"
    }
   ],
   "source": [
    "def tambah(a, b):\n",
    "    return a + b\n",
    "\n",
    "tambah(5, 7)"
   ]
  },
  {
   "cell_type": "code",
   "execution_count": 13,
   "id": "5e144fc7",
   "metadata": {},
   "outputs": [
    {
     "data": {
      "text/plain": [
       "6"
      ]
     },
     "execution_count": 13,
     "metadata": {},
     "output_type": "execute_result"
    }
   ],
   "source": [
    "def kali(a ,b):\n",
    "    return a * b\n",
    "\n",
    "kali(2, 3)"
   ]
  },
  {
   "cell_type": "code",
   "execution_count": 14,
   "id": "e542d4a7",
   "metadata": {},
   "outputs": [
    {
     "name": "stdout",
     "output_type": "stream",
     "text": [
      "meeeeooongg\n"
     ]
    }
   ],
   "source": [
    "class Kucing(object):\n",
    "    def meong(self):\n",
    "        print(\"meeeeooongg\")\n",
    "        \n",
    "cat = Kucing()\n",
    "cat.meong()"
   ]
  },
  {
   "cell_type": "code",
   "execution_count": 15,
   "id": "a92b1361",
   "metadata": {},
   "outputs": [
    {
     "name": "stdout",
     "output_type": "stream",
     "text": [
      "5\n"
     ]
    }
   ],
   "source": [
    "def jumlah(a,b):\n",
    "    c = a + b\n",
    "    return c\n",
    "\n",
    "hasil = jumlah(2,3)\n",
    "print(hasil)"
   ]
  },
  {
   "cell_type": "code",
   "execution_count": 17,
   "id": "2da5f65e",
   "metadata": {},
   "outputs": [
    {
     "name": "stdout",
     "output_type": "stream",
     "text": [
      "6\n"
     ]
    }
   ],
   "source": [
    "tambah = lambda a, b : (a * b)\n",
    "print(tambah(2,3))"
   ]
  },
  {
   "cell_type": "code",
   "execution_count": 23,
   "id": "8d720923",
   "metadata": {},
   "outputs": [
    {
     "name": "stdout",
     "output_type": "stream",
     "text": [
      "nama: meong, usia: 1, warna: putih coklat muda, jenis: anggora\n",
      "nama: meong, usia: 1, warna: putih coklat muda, jenis: anggora\n"
     ]
    }
   ],
   "source": [
    "nama = \"meong\"\n",
    "usia = 1\n",
    "warna = \"putih coklat muda\"\n",
    "jenis = \"anggora\"\n",
    "\n",
    "def meong():\n",
    "    print(\"meeeeeoooonggg.....\")\n",
    "    \n",
    "def info_kucing(nama, usia, warna, jenis):\n",
    "    print(f\"nama: {nama}, usia: {usia}, warna: {warna}, jenis: {jenis}\")\n",
    "    \n",
    "info_kucing(nama, usia, warna, jenis)\n",
    "\n",
    "class Kucing:\n",
    "    def __init__(self, nama, usia, warna, jenis):\n",
    "        self.nama = nama\n",
    "        self.usia = usia\n",
    "        self.warna = warna\n",
    "        self.jenis = jenis\n",
    "        \n",
    "    def myfunc(self):\n",
    "        print(\"Hello my name is \" + self.nama)\n",
    "        \n",
    "    def meong(self):\n",
    "        print(\"meeeeeoooonngggg...\")\n",
    "        \n",
    "    def info(self):\n",
    "        print(f\"nama: {self.nama}, usia: {self.usia}, warna: {self.warna}, jenis: {self.jenis}\")\n",
    "        \n",
    "kucing1 = Kucing(\"meong\", 1, \"putih coklat muda\", \"anggora\")\n",
    "\n",
    "kucing1.info()"
   ]
  },
  {
   "cell_type": "code",
   "execution_count": null,
   "id": "ba2dea39",
   "metadata": {},
   "outputs": [],
   "source": []
  },
  {
   "cell_type": "code",
   "execution_count": null,
   "id": "b813abd4",
   "metadata": {},
   "outputs": [],
   "source": []
  },
  {
   "cell_type": "code",
   "execution_count": null,
   "id": "920889c1",
   "metadata": {},
   "outputs": [],
   "source": []
  },
  {
   "cell_type": "code",
   "execution_count": null,
   "id": "855d030b",
   "metadata": {},
   "outputs": [],
   "source": []
  },
  {
   "cell_type": "code",
   "execution_count": null,
   "id": "948c4854",
   "metadata": {},
   "outputs": [],
   "source": []
  },
  {
   "cell_type": "code",
   "execution_count": null,
   "id": "435048d6",
   "metadata": {},
   "outputs": [],
   "source": []
  },
  {
   "cell_type": "code",
   "execution_count": null,
   "id": "4f531172",
   "metadata": {},
   "outputs": [],
   "source": []
  },
  {
   "cell_type": "code",
   "execution_count": null,
   "id": "3084ecae",
   "metadata": {},
   "outputs": [],
   "source": []
  }
 ],
 "metadata": {
  "kernelspec": {
   "display_name": "Python 3 (ipykernel)",
   "language": "python",
   "name": "python3"
  },
  "language_info": {
   "codemirror_mode": {
    "name": "ipython",
    "version": 3
   },
   "file_extension": ".py",
   "mimetype": "text/x-python",
   "name": "python",
   "nbconvert_exporter": "python",
   "pygments_lexer": "ipython3",
   "version": "3.9.6"
  }
 },
 "nbformat": 4,
 "nbformat_minor": 5
}
