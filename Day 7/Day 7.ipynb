{
 "cells": [
  {
   "cell_type": "code",
   "execution_count": 13,
   "id": "ca4b1364",
   "metadata": {},
   "outputs": [
    {
     "data": {
      "text/html": [
       "<div>\n",
       "<style scoped>\n",
       "    .dataframe tbody tr th:only-of-type {\n",
       "        vertical-align: middle;\n",
       "    }\n",
       "\n",
       "    .dataframe tbody tr th {\n",
       "        vertical-align: top;\n",
       "    }\n",
       "\n",
       "    .dataframe thead th {\n",
       "        text-align: right;\n",
       "    }\n",
       "</style>\n",
       "<table border=\"1\" class=\"dataframe\">\n",
       "  <thead>\n",
       "    <tr style=\"text-align: right;\">\n",
       "      <th></th>\n",
       "      <th>Nama</th>\n",
       "      <th>Jenis Kelamin</th>\n",
       "      <th>Usia</th>\n",
       "      <th>Status</th>\n",
       "    </tr>\n",
       "  </thead>\n",
       "  <tbody>\n",
       "    <tr>\n",
       "      <th>0</th>\n",
       "      <td>Andien</td>\n",
       "      <td>P</td>\n",
       "      <td>21</td>\n",
       "      <td>Belum Menikah</td>\n",
       "    </tr>\n",
       "    <tr>\n",
       "      <th>1</th>\n",
       "      <td>Raka</td>\n",
       "      <td>L</td>\n",
       "      <td>25</td>\n",
       "      <td>Belum Menikah</td>\n",
       "    </tr>\n",
       "    <tr>\n",
       "      <th>2</th>\n",
       "      <td>Bobby</td>\n",
       "      <td>L</td>\n",
       "      <td>23</td>\n",
       "      <td>Sudah Menikah</td>\n",
       "    </tr>\n",
       "  </tbody>\n",
       "</table>\n",
       "</div>"
      ],
      "text/plain": [
       "     Nama Jenis Kelamin  Usia         Status\n",
       "0  Andien             P    21  Belum Menikah\n",
       "1    Raka             L    25  Belum Menikah\n",
       "2   Bobby             L    23  Sudah Menikah"
      ]
     },
     "execution_count": 13,
     "metadata": {},
     "output_type": "execute_result"
    }
   ],
   "source": [
    "import pandas as pd\n",
    "\n",
    "df1 = pd.DataFrame([\n",
    "    [\"Andien\", \"P\", 21, \"Belum Menikah\"],\n",
    "    [\"Raka\", \"L\", 25, \"Belum Menikah\"],\n",
    "    [\"Bobby\", \"L\", 23, \"Sudah Menikah\"]\n",
    "])\n",
    "\n",
    "df1.columns = [\"Nama\", \"Jenis Kelamin\", \"Usia\", \"Status\"]\n",
    "\n",
    "df1"
   ]
  },
  {
   "cell_type": "code",
   "execution_count": 15,
   "id": "d74c7180",
   "metadata": {},
   "outputs": [
    {
     "name": "stdout",
     "output_type": "stream",
     "text": [
      "0    Andien\n",
      "1      Raka\n",
      "2     Bobby\n",
      "Name: Nama, dtype: object\n",
      "0    21\n",
      "1    25\n",
      "2    23\n",
      "Name: Usia, dtype: int64\n"
     ]
    }
   ],
   "source": [
    "print(df1['Nama'])\n",
    "print(df1['Usia'])"
   ]
  },
  {
   "cell_type": "code",
   "execution_count": 21,
   "id": "53dd7f3d",
   "metadata": {},
   "outputs": [],
   "source": [
    "df1.to_csv(\"anggota_koperasi_sukanabung.csv\")\n",
    "df1.to_excel(\"anggota_koperasi_sukanabung.xlsx\")"
   ]
  },
  {
   "cell_type": "code",
   "execution_count": null,
   "id": "e6c9781b",
   "metadata": {},
   "outputs": [],
   "source": []
  },
  {
   "cell_type": "code",
   "execution_count": null,
   "id": "d5cf9740",
   "metadata": {},
   "outputs": [],
   "source": []
  },
  {
   "cell_type": "code",
   "execution_count": null,
   "id": "ee50127d",
   "metadata": {},
   "outputs": [],
   "source": []
  },
  {
   "cell_type": "code",
   "execution_count": null,
   "id": "de1ad86e",
   "metadata": {},
   "outputs": [],
   "source": []
  },
  {
   "cell_type": "code",
   "execution_count": null,
   "id": "c483ef42",
   "metadata": {},
   "outputs": [],
   "source": []
  },
  {
   "cell_type": "code",
   "execution_count": null,
   "id": "4ef741c4",
   "metadata": {},
   "outputs": [],
   "source": []
  }
 ],
 "metadata": {
  "kernelspec": {
   "display_name": "Python 3 (ipykernel)",
   "language": "python",
   "name": "python3"
  },
  "language_info": {
   "codemirror_mode": {
    "name": "ipython",
    "version": 3
   },
   "file_extension": ".py",
   "mimetype": "text/x-python",
   "name": "python",
   "nbconvert_exporter": "python",
   "pygments_lexer": "ipython3",
   "version": "3.9.6"
  }
 },
 "nbformat": 4,
 "nbformat_minor": 5
}
