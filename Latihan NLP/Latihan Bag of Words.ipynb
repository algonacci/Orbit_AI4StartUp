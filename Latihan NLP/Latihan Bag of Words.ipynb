{
 "cells": [
  {
   "cell_type": "code",
   "execution_count": 1,
   "id": "326157fd",
   "metadata": {},
   "outputs": [],
   "source": [
    "import pandas as pd\n",
    "import nltk\n",
    "import re\n",
    "from sklearn.feature_extraction.text import CountVectorizer"
   ]
  },
  {
   "cell_type": "code",
   "execution_count": 2,
   "id": "b6c810fa",
   "metadata": {},
   "outputs": [],
   "source": [
    "paragraf = '''\n",
    "Kita membutuhkan chatbot kesehatan mental.\n",
    "Dia juga menyenangkan untuk diajak bicara.\n",
    "Chatbot tidak akan pernah menggantikan terapi atau terapis.\n",
    "'''"
   ]
  },
  {
   "cell_type": "code",
   "execution_count": 3,
   "id": "83990d58",
   "metadata": {},
   "outputs": [
    {
     "data": {
      "text/plain": [
       "['\\nKita membutuhkan chatbot kesehatan mental.',\n",
       " 'Dia juga menyenangkan untuk diajak bicara.',\n",
       " 'Chatbot tidak akan pernah menggantikan terapi atau terapis.']"
      ]
     },
     "execution_count": 3,
     "metadata": {},
     "output_type": "execute_result"
    }
   ],
   "source": [
    "kalimat = nltk.sent_tokenize(paragraf)\n",
    "tabel_kata = []\n",
    "kalimat"
   ]
  },
  {
   "cell_type": "code",
   "execution_count": 4,
   "id": "c17481d3",
   "metadata": {},
   "outputs": [],
   "source": [
    "for i in range(len(kalimat)):\n",
    "    kata = re.sub('[^a-zA-Z]', ' ', kalimat[i])\n",
    "    kata = kata.lower()\n",
    "    kata = kata.split()\n",
    "    kata = ' '.join(kata)\n",
    "    tabel_kata.append(kata)"
   ]
  },
  {
   "cell_type": "code",
   "execution_count": 5,
   "id": "a38c01dc",
   "metadata": {},
   "outputs": [
    {
     "data": {
      "text/plain": [
       "['kita membutuhkan chatbot kesehatan mental',\n",
       " 'dia juga menyenangkan untuk diajak bicara',\n",
       " 'chatbot tidak akan pernah menggantikan terapi atau terapis']"
      ]
     },
     "execution_count": 5,
     "metadata": {},
     "output_type": "execute_result"
    }
   ],
   "source": [
    "tabel_kata"
   ]
  },
  {
   "cell_type": "code",
   "execution_count": 6,
   "id": "703a5468",
   "metadata": {},
   "outputs": [
    {
     "data": {
      "text/plain": [
       "array([[0, 0, 0, 1, 0, 0, 0, 1, 1, 1, 0, 1, 0, 0, 0, 0, 0, 0],\n",
       "       [0, 0, 1, 0, 1, 1, 1, 0, 0, 0, 0, 0, 1, 0, 0, 0, 0, 1],\n",
       "       [1, 1, 0, 1, 0, 0, 0, 0, 0, 0, 1, 0, 0, 1, 1, 1, 1, 0]],\n",
       "      dtype=int64)"
      ]
     },
     "execution_count": 6,
     "metadata": {},
     "output_type": "execute_result"
    }
   ],
   "source": [
    "cv = CountVectorizer()\n",
    "X = cv.fit_transform(tabel_kata).toarray()\n",
    "X"
   ]
  },
  {
   "cell_type": "code",
   "execution_count": 7,
   "id": "206ab6dd",
   "metadata": {},
   "outputs": [
    {
     "data": {
      "text/html": [
       "<div>\n",
       "<style scoped>\n",
       "    .dataframe tbody tr th:only-of-type {\n",
       "        vertical-align: middle;\n",
       "    }\n",
       "\n",
       "    .dataframe tbody tr th {\n",
       "        vertical-align: top;\n",
       "    }\n",
       "\n",
       "    .dataframe thead th {\n",
       "        text-align: right;\n",
       "    }\n",
       "</style>\n",
       "<table border=\"1\" class=\"dataframe\">\n",
       "  <thead>\n",
       "    <tr style=\"text-align: right;\">\n",
       "      <th></th>\n",
       "      <th>akan</th>\n",
       "      <th>atau</th>\n",
       "      <th>bicara</th>\n",
       "      <th>chatbot</th>\n",
       "      <th>dia</th>\n",
       "      <th>diajak</th>\n",
       "      <th>juga</th>\n",
       "      <th>kesehatan</th>\n",
       "      <th>kita</th>\n",
       "      <th>membutuhkan</th>\n",
       "      <th>menggantikan</th>\n",
       "      <th>mental</th>\n",
       "      <th>menyenangkan</th>\n",
       "      <th>pernah</th>\n",
       "      <th>terapi</th>\n",
       "      <th>terapis</th>\n",
       "      <th>tidak</th>\n",
       "      <th>untuk</th>\n",
       "    </tr>\n",
       "  </thead>\n",
       "  <tbody>\n",
       "    <tr>\n",
       "      <th>0</th>\n",
       "      <td>0</td>\n",
       "      <td>0</td>\n",
       "      <td>0</td>\n",
       "      <td>1</td>\n",
       "      <td>0</td>\n",
       "      <td>0</td>\n",
       "      <td>0</td>\n",
       "      <td>1</td>\n",
       "      <td>1</td>\n",
       "      <td>1</td>\n",
       "      <td>0</td>\n",
       "      <td>1</td>\n",
       "      <td>0</td>\n",
       "      <td>0</td>\n",
       "      <td>0</td>\n",
       "      <td>0</td>\n",
       "      <td>0</td>\n",
       "      <td>0</td>\n",
       "    </tr>\n",
       "    <tr>\n",
       "      <th>1</th>\n",
       "      <td>0</td>\n",
       "      <td>0</td>\n",
       "      <td>1</td>\n",
       "      <td>0</td>\n",
       "      <td>1</td>\n",
       "      <td>1</td>\n",
       "      <td>1</td>\n",
       "      <td>0</td>\n",
       "      <td>0</td>\n",
       "      <td>0</td>\n",
       "      <td>0</td>\n",
       "      <td>0</td>\n",
       "      <td>1</td>\n",
       "      <td>0</td>\n",
       "      <td>0</td>\n",
       "      <td>0</td>\n",
       "      <td>0</td>\n",
       "      <td>1</td>\n",
       "    </tr>\n",
       "    <tr>\n",
       "      <th>2</th>\n",
       "      <td>1</td>\n",
       "      <td>1</td>\n",
       "      <td>0</td>\n",
       "      <td>1</td>\n",
       "      <td>0</td>\n",
       "      <td>0</td>\n",
       "      <td>0</td>\n",
       "      <td>0</td>\n",
       "      <td>0</td>\n",
       "      <td>0</td>\n",
       "      <td>1</td>\n",
       "      <td>0</td>\n",
       "      <td>0</td>\n",
       "      <td>1</td>\n",
       "      <td>1</td>\n",
       "      <td>1</td>\n",
       "      <td>1</td>\n",
       "      <td>0</td>\n",
       "    </tr>\n",
       "  </tbody>\n",
       "</table>\n",
       "</div>"
      ],
      "text/plain": [
       "   akan  atau  bicara  chatbot  dia  diajak  juga  kesehatan  kita  \\\n",
       "0     0     0       0        1    0       0     0          1     1   \n",
       "1     0     0       1        0    1       1     1          0     0   \n",
       "2     1     1       0        1    0       0     0          0     0   \n",
       "\n",
       "   membutuhkan  menggantikan  mental  menyenangkan  pernah  terapi  terapis  \\\n",
       "0            1             0       1             0       0       0        0   \n",
       "1            0             0       0             1       0       0        0   \n",
       "2            0             1       0             0       1       1        1   \n",
       "\n",
       "   tidak  untuk  \n",
       "0      0      0  \n",
       "1      0      1  \n",
       "2      1      0  "
      ]
     },
     "execution_count": 7,
     "metadata": {},
     "output_type": "execute_result"
    }
   ],
   "source": [
    "kata_kata = cv.get_feature_names()\n",
    "bow = pd.DataFrame(X, columns=kata_kata)\n",
    "bow"
   ]
  },
  {
   "cell_type": "code",
   "execution_count": 8,
   "id": "74e294f5",
   "metadata": {},
   "outputs": [
    {
     "data": {
      "text/html": [
       "<div>\n",
       "<style scoped>\n",
       "    .dataframe tbody tr th:only-of-type {\n",
       "        vertical-align: middle;\n",
       "    }\n",
       "\n",
       "    .dataframe tbody tr th {\n",
       "        vertical-align: top;\n",
       "    }\n",
       "\n",
       "    .dataframe thead th {\n",
       "        text-align: right;\n",
       "    }\n",
       "</style>\n",
       "<table border=\"1\" class=\"dataframe\">\n",
       "  <thead>\n",
       "    <tr style=\"text-align: right;\">\n",
       "      <th></th>\n",
       "      <th>0</th>\n",
       "    </tr>\n",
       "  </thead>\n",
       "  <tbody>\n",
       "    <tr>\n",
       "      <th>0</th>\n",
       "      <td>akan</td>\n",
       "    </tr>\n",
       "    <tr>\n",
       "      <th>1</th>\n",
       "      <td>atau</td>\n",
       "    </tr>\n",
       "    <tr>\n",
       "      <th>2</th>\n",
       "      <td>bicara</td>\n",
       "    </tr>\n",
       "    <tr>\n",
       "      <th>3</th>\n",
       "      <td>chatbot</td>\n",
       "    </tr>\n",
       "    <tr>\n",
       "      <th>4</th>\n",
       "      <td>dia</td>\n",
       "    </tr>\n",
       "    <tr>\n",
       "      <th>5</th>\n",
       "      <td>diajak</td>\n",
       "    </tr>\n",
       "    <tr>\n",
       "      <th>6</th>\n",
       "      <td>juga</td>\n",
       "    </tr>\n",
       "    <tr>\n",
       "      <th>7</th>\n",
       "      <td>kesehatan</td>\n",
       "    </tr>\n",
       "    <tr>\n",
       "      <th>8</th>\n",
       "      <td>kita</td>\n",
       "    </tr>\n",
       "    <tr>\n",
       "      <th>9</th>\n",
       "      <td>membutuhkan</td>\n",
       "    </tr>\n",
       "    <tr>\n",
       "      <th>10</th>\n",
       "      <td>menggantikan</td>\n",
       "    </tr>\n",
       "    <tr>\n",
       "      <th>11</th>\n",
       "      <td>mental</td>\n",
       "    </tr>\n",
       "    <tr>\n",
       "      <th>12</th>\n",
       "      <td>menyenangkan</td>\n",
       "    </tr>\n",
       "    <tr>\n",
       "      <th>13</th>\n",
       "      <td>pernah</td>\n",
       "    </tr>\n",
       "    <tr>\n",
       "      <th>14</th>\n",
       "      <td>terapi</td>\n",
       "    </tr>\n",
       "    <tr>\n",
       "      <th>15</th>\n",
       "      <td>terapis</td>\n",
       "    </tr>\n",
       "    <tr>\n",
       "      <th>16</th>\n",
       "      <td>tidak</td>\n",
       "    </tr>\n",
       "    <tr>\n",
       "      <th>17</th>\n",
       "      <td>untuk</td>\n",
       "    </tr>\n",
       "  </tbody>\n",
       "</table>\n",
       "</div>"
      ],
      "text/plain": [
       "               0\n",
       "0           akan\n",
       "1           atau\n",
       "2         bicara\n",
       "3        chatbot\n",
       "4            dia\n",
       "5         diajak\n",
       "6           juga\n",
       "7      kesehatan\n",
       "8           kita\n",
       "9    membutuhkan\n",
       "10  menggantikan\n",
       "11        mental\n",
       "12  menyenangkan\n",
       "13        pernah\n",
       "14        terapi\n",
       "15       terapis\n",
       "16         tidak\n",
       "17         untuk"
      ]
     },
     "execution_count": 8,
     "metadata": {},
     "output_type": "execute_result"
    }
   ],
   "source": [
    "pd.DataFrame(kata_kata)"
   ]
  },
  {
   "cell_type": "code",
   "execution_count": 9,
   "id": "9016bce7",
   "metadata": {},
   "outputs": [
    {
     "data": {
      "text/plain": [
       "akan            1\n",
       "atau            1\n",
       "bicara          1\n",
       "chatbot         2\n",
       "dia             1\n",
       "diajak          1\n",
       "juga            1\n",
       "kesehatan       1\n",
       "kita            1\n",
       "membutuhkan     1\n",
       "menggantikan    1\n",
       "mental          1\n",
       "menyenangkan    1\n",
       "pernah          1\n",
       "terapi          1\n",
       "terapis         1\n",
       "tidak           1\n",
       "untuk           1\n",
       "dtype: int64"
      ]
     },
     "execution_count": 9,
     "metadata": {},
     "output_type": "execute_result"
    }
   ],
   "source": [
    "bow.sum()"
   ]
  },
  {
   "cell_type": "code",
   "execution_count": 10,
   "id": "8fb0a14c",
   "metadata": {},
   "outputs": [
    {
     "data": {
      "text/plain": [
       "19"
      ]
     },
     "execution_count": 10,
     "metadata": {},
     "output_type": "execute_result"
    }
   ],
   "source": [
    "bow.sum().sum()"
   ]
  }
 ],
 "metadata": {
  "kernelspec": {
   "display_name": "Python 3 (ipykernel)",
   "language": "python",
   "name": "python3"
  },
  "language_info": {
   "codemirror_mode": {
    "name": "ipython",
    "version": 3
   },
   "file_extension": ".py",
   "mimetype": "text/x-python",
   "name": "python",
   "nbconvert_exporter": "python",
   "pygments_lexer": "ipython3",
   "version": "3.9.6"
  }
 },
 "nbformat": 4,
 "nbformat_minor": 5
}
