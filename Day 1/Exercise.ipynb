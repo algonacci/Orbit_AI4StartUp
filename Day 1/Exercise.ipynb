{
 "cells": [
  {
   "cell_type": "code",
   "execution_count": 1,
   "id": "a8097ccc",
   "metadata": {},
   "outputs": [
    {
     "name": "stdout",
     "output_type": "stream",
     "text": [
      "Hello World!\n"
     ]
    }
   ],
   "source": [
    "print(\"Hello World!\")"
   ]
  },
  {
   "cell_type": "code",
   "execution_count": 2,
   "id": "c6030e5c",
   "metadata": {},
   "outputs": [
    {
     "name": "stdout",
     "output_type": "stream",
     "text": [
      "Hello World!\n",
      "6\n"
     ]
    }
   ],
   "source": [
    "print(\"Hello World!\")\n",
    "print(5 + 1)"
   ]
  },
  {
   "cell_type": "code",
   "execution_count": 4,
   "id": "c4119502",
   "metadata": {},
   "outputs": [
    {
     "name": "stdout",
     "output_type": "stream",
     "text": [
      "25\n",
      "AI for Startup\n"
     ]
    }
   ],
   "source": [
    "print(10*2+5)\n",
    "print(\"AI for Startup\")"
   ]
  },
  {
   "cell_type": "code",
   "execution_count": 5,
   "id": "c4e87146",
   "metadata": {},
   "outputs": [
    {
     "name": "stdout",
     "output_type": "stream",
     "text": [
      "Ini adalah sebuah baris kode\n"
     ]
    }
   ],
   "source": [
    "print(\"Ini adalah sebuah baris kode\") #Ini adalah contoh comment dan tidak akan tercetak"
   ]
  },
  {
   "cell_type": "code",
   "execution_count": 6,
   "id": "60a11d6a",
   "metadata": {},
   "outputs": [
    {
     "name": "stdout",
     "output_type": "stream",
     "text": [
      "25\n",
      "AI for Startup - Kelas Atlas Keren\n"
     ]
    }
   ],
   "source": [
    "print(10*2+5) #Fungsi Matematika\n",
    "print(\"AI for Startup - Kelas Atlas Keren\") #Fungsi mencetak kalimat"
   ]
  },
  {
   "cell_type": "code",
   "execution_count": 15,
   "id": "f3588129",
   "metadata": {},
   "outputs": [],
   "source": [
    "bilangan = 10\n",
    "bilangan_2 = 20\n",
    "frasa = \"Halo Dunia, \"\n",
    "nama = \"Saya Eric\"\n",
    "bil_1, bil_2 = 10,20\n",
    "kelas = \"Atlas \"; prodi = \"AI for Startup\""
   ]
  },
  {
   "cell_type": "code",
   "execution_count": 16,
   "id": "dc9de472",
   "metadata": {},
   "outputs": [
    {
     "name": "stdout",
     "output_type": "stream",
     "text": [
      "Halo Dunia, Saya Eric\n",
      "Dari Kelas Atlas AI for Startup\n"
     ]
    }
   ],
   "source": [
    "print(frasa + nama)\n",
    "print(\"Dari Kelas \" + kelas + prodi)"
   ]
  }
 ],
 "metadata": {
  "kernelspec": {
   "display_name": "Python 3 (ipykernel)",
   "language": "python",
   "name": "python3"
  },
  "language_info": {
   "codemirror_mode": {
    "name": "ipython",
    "version": 3
   },
   "file_extension": ".py",
   "mimetype": "text/x-python",
   "name": "python",
   "nbconvert_exporter": "python",
   "pygments_lexer": "ipython3",
   "version": "3.9.6"
  }
 },
 "nbformat": 4,
 "nbformat_minor": 5
}
