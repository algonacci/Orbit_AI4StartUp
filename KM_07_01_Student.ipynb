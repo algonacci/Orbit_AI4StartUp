{
  "nbformat": 4,
  "nbformat_minor": 0,
  "metadata": {
    "accelerator": "GPU",
    "colab": {
      "name": "KM_07_01_Student.ipynb",
      "provenance": [],
      "collapsed_sections": [],
      "include_colab_link": true
    },
    "kernelspec": {
      "display_name": "Python 3",
      "language": "python",
      "name": "python3"
    },
    "language_info": {
      "codemirror_mode": {
        "name": "ipython",
        "version": 3
      },
      "file_extension": ".py",
      "mimetype": "text/x-python",
      "name": "python",
      "nbconvert_exporter": "python",
      "pygments_lexer": "ipython3",
      "version": "3.8.5"
    }
  },
  "cells": [
    {
      "cell_type": "markdown",
      "metadata": {
        "id": "view-in-github",
        "colab_type": "text"
      },
      "source": [
        "<a href=\"https://colab.research.google.com/github/algonacci/Orbit/blob/main/KM_07_01_Student.ipynb\" target=\"_parent\"><img src=\"https://colab.research.google.com/assets/colab-badge.svg\" alt=\"Open In Colab\"/></a>"
      ]
    },
    {
      "cell_type": "markdown",
      "metadata": {
        "id": "fXyErK3La9VY"
      },
      "source": [
        "## Import Library yg dibutuhkan"
      ]
    },
    {
      "cell_type": "code",
      "metadata": {
        "id": "o-sY0DCpa9Vi"
      },
      "source": [
        "import pandas as pd\n",
        "import matplotlib.pyplot as plt\n",
        "#tambahkan library sesuai kebutuhan"
      ],
      "execution_count": null,
      "outputs": []
    },
    {
      "cell_type": "markdown",
      "metadata": {
        "id": "uLNZYwquyKKa"
      },
      "source": [
        ""
      ]
    },
    {
      "cell_type": "code",
      "metadata": {
        "id": "mdVVIvqIa9Vm"
      },
      "source": [
        "data = pd.read_csv('https://raw.githubusercontent.com/algonacci/DataWarehouse/main/activity_km_07_01.csv')"
      ],
      "execution_count": null,
      "outputs": []
    },
    {
      "cell_type": "code",
      "metadata": {
        "colab": {
          "base_uri": "https://localhost:8080/",
          "height": 419
        },
        "id": "Kwh2UjUMa9Vo",
        "outputId": "12920b44-fac2-405c-93a8-7582b0a1a6a7"
      },
      "source": [
        "data"
      ],
      "execution_count": null,
      "outputs": [
        {
          "output_type": "execute_result",
          "data": {
            "text/html": [
              "<div>\n",
              "<style scoped>\n",
              "    .dataframe tbody tr th:only-of-type {\n",
              "        vertical-align: middle;\n",
              "    }\n",
              "\n",
              "    .dataframe tbody tr th {\n",
              "        vertical-align: top;\n",
              "    }\n",
              "\n",
              "    .dataframe thead th {\n",
              "        text-align: right;\n",
              "    }\n",
              "</style>\n",
              "<table border=\"1\" class=\"dataframe\">\n",
              "  <thead>\n",
              "    <tr style=\"text-align: right;\">\n",
              "      <th></th>\n",
              "      <th>PH</th>\n",
              "      <th>cahaya</th>\n",
              "      <th>intensitas air</th>\n",
              "      <th>suhu</th>\n",
              "      <th>PPM</th>\n",
              "      <th>tinggi air</th>\n",
              "      <th>aksi</th>\n",
              "    </tr>\n",
              "  </thead>\n",
              "  <tbody>\n",
              "    <tr>\n",
              "      <th>0</th>\n",
              "      <td>6.5</td>\n",
              "      <td>Ada</td>\n",
              "      <td>Tinggi</td>\n",
              "      <td>27.0</td>\n",
              "      <td>188.0</td>\n",
              "      <td>622</td>\n",
              "      <td>Hidupkan Lampu dan Pompa nutrisi TDS</td>\n",
              "    </tr>\n",
              "    <tr>\n",
              "      <th>1</th>\n",
              "      <td>5.7</td>\n",
              "      <td>Ada</td>\n",
              "      <td>Tinggi</td>\n",
              "      <td>26.9</td>\n",
              "      <td>79.0</td>\n",
              "      <td>557</td>\n",
              "      <td>Hidupkan Lampu dan Pompa nutrisi TDS</td>\n",
              "    </tr>\n",
              "    <tr>\n",
              "      <th>2</th>\n",
              "      <td>6.0</td>\n",
              "      <td>Ada</td>\n",
              "      <td>Tinggi</td>\n",
              "      <td>27.0</td>\n",
              "      <td>11.0</td>\n",
              "      <td>491</td>\n",
              "      <td>Hidupkan Lampu dan Pompa nutrisi TDS</td>\n",
              "    </tr>\n",
              "    <tr>\n",
              "      <th>3</th>\n",
              "      <td>6.5</td>\n",
              "      <td>Ada</td>\n",
              "      <td>Tinggi</td>\n",
              "      <td>27.1</td>\n",
              "      <td>345.0</td>\n",
              "      <td>12000</td>\n",
              "      <td>Tidak melakukan apa-apa</td>\n",
              "    </tr>\n",
              "    <tr>\n",
              "      <th>4</th>\n",
              "      <td>6.2</td>\n",
              "      <td>NaN</td>\n",
              "      <td>Tinggi</td>\n",
              "      <td>27.1</td>\n",
              "      <td>602.0</td>\n",
              "      <td>444</td>\n",
              "      <td>Tidak melakukan apa-apa</td>\n",
              "    </tr>\n",
              "    <tr>\n",
              "      <th>...</th>\n",
              "      <td>...</td>\n",
              "      <td>...</td>\n",
              "      <td>...</td>\n",
              "      <td>...</td>\n",
              "      <td>...</td>\n",
              "      <td>...</td>\n",
              "      <td>...</td>\n",
              "    </tr>\n",
              "    <tr>\n",
              "      <th>611</th>\n",
              "      <td>4.6</td>\n",
              "      <td>Ada</td>\n",
              "      <td>Rendah sekali</td>\n",
              "      <td>25.3</td>\n",
              "      <td>904.0</td>\n",
              "      <td>47</td>\n",
              "      <td>Hidupkan Lampu</td>\n",
              "    </tr>\n",
              "    <tr>\n",
              "      <th>612</th>\n",
              "      <td>2.1</td>\n",
              "      <td>Ada</td>\n",
              "      <td>Rendah sekali</td>\n",
              "      <td>25.0</td>\n",
              "      <td>388.0</td>\n",
              "      <td>18</td>\n",
              "      <td>Hidupkan Lampu dan Pompa nutrisi TDS</td>\n",
              "    </tr>\n",
              "    <tr>\n",
              "      <th>613</th>\n",
              "      <td>3.2</td>\n",
              "      <td>Ada</td>\n",
              "      <td>Rendah sekali</td>\n",
              "      <td>25.3</td>\n",
              "      <td>793.0</td>\n",
              "      <td>19</td>\n",
              "      <td>Hidupkan Lampu</td>\n",
              "    </tr>\n",
              "    <tr>\n",
              "      <th>614</th>\n",
              "      <td>1.4</td>\n",
              "      <td>Ada</td>\n",
              "      <td>Rendah sekali</td>\n",
              "      <td>25.4</td>\n",
              "      <td>1052.0</td>\n",
              "      <td>3</td>\n",
              "      <td>Hidupkan Lampu</td>\n",
              "    </tr>\n",
              "    <tr>\n",
              "      <th>615</th>\n",
              "      <td>5.0</td>\n",
              "      <td>Ada</td>\n",
              "      <td>Rendah sekali</td>\n",
              "      <td>25.3</td>\n",
              "      <td>977.0</td>\n",
              "      <td>19</td>\n",
              "      <td>Hidupkan Lampu</td>\n",
              "    </tr>\n",
              "  </tbody>\n",
              "</table>\n",
              "<p>616 rows × 7 columns</p>\n",
              "</div>"
            ],
            "text/plain": [
              "      PH cahaya  ... tinggi air                                  aksi\n",
              "0    6.5    Ada  ...        622  Hidupkan Lampu dan Pompa nutrisi TDS\n",
              "1    5.7    Ada  ...        557  Hidupkan Lampu dan Pompa nutrisi TDS\n",
              "2    6.0    Ada  ...        491  Hidupkan Lampu dan Pompa nutrisi TDS\n",
              "3    6.5    Ada  ...      12000               Tidak melakukan apa-apa\n",
              "4    6.2    NaN  ...        444               Tidak melakukan apa-apa\n",
              "..   ...    ...  ...        ...                                   ...\n",
              "611  4.6    Ada  ...         47                        Hidupkan Lampu\n",
              "612  2.1    Ada  ...         18  Hidupkan Lampu dan Pompa nutrisi TDS\n",
              "613  3.2    Ada  ...         19                        Hidupkan Lampu\n",
              "614  1.4    Ada  ...          3                        Hidupkan Lampu\n",
              "615  5.0    Ada  ...         19                        Hidupkan Lampu\n",
              "\n",
              "[616 rows x 7 columns]"
            ]
          },
          "metadata": {},
          "execution_count": 131
        }
      ]
    },
    {
      "cell_type": "markdown",
      "metadata": {
        "id": "WZ3GE8pya9Vr"
      },
      "source": [
        "## 1. Mengganti nama kolom yang menggunakan spasi"
      ]
    },
    {
      "cell_type": "code",
      "metadata": {
        "id": "v0csWHwRa9Vs",
        "colab": {
          "base_uri": "https://localhost:8080/",
          "height": 204
        },
        "outputId": "5b62b9de-9a3e-451f-f55d-78d47ebd79f7"
      },
      "source": [
        "#isi code\n",
        "data.rename(columns={\n",
        "    \"intensitas air\" : \"intensitas_air\",\n",
        "    \"tinggi air\" : \"tinggi_air\"\n",
        "}, inplace=True)\n",
        "data.head()"
      ],
      "execution_count": null,
      "outputs": [
        {
          "output_type": "execute_result",
          "data": {
            "text/html": [
              "<div>\n",
              "<style scoped>\n",
              "    .dataframe tbody tr th:only-of-type {\n",
              "        vertical-align: middle;\n",
              "    }\n",
              "\n",
              "    .dataframe tbody tr th {\n",
              "        vertical-align: top;\n",
              "    }\n",
              "\n",
              "    .dataframe thead th {\n",
              "        text-align: right;\n",
              "    }\n",
              "</style>\n",
              "<table border=\"1\" class=\"dataframe\">\n",
              "  <thead>\n",
              "    <tr style=\"text-align: right;\">\n",
              "      <th></th>\n",
              "      <th>PH</th>\n",
              "      <th>cahaya</th>\n",
              "      <th>intensitas_air</th>\n",
              "      <th>suhu</th>\n",
              "      <th>PPM</th>\n",
              "      <th>tinggi_air</th>\n",
              "      <th>aksi</th>\n",
              "    </tr>\n",
              "  </thead>\n",
              "  <tbody>\n",
              "    <tr>\n",
              "      <th>0</th>\n",
              "      <td>6.5</td>\n",
              "      <td>Ada</td>\n",
              "      <td>Tinggi</td>\n",
              "      <td>27.0</td>\n",
              "      <td>188.0</td>\n",
              "      <td>622</td>\n",
              "      <td>Hidupkan Lampu dan Pompa nutrisi TDS</td>\n",
              "    </tr>\n",
              "    <tr>\n",
              "      <th>1</th>\n",
              "      <td>5.7</td>\n",
              "      <td>Ada</td>\n",
              "      <td>Tinggi</td>\n",
              "      <td>26.9</td>\n",
              "      <td>79.0</td>\n",
              "      <td>557</td>\n",
              "      <td>Hidupkan Lampu dan Pompa nutrisi TDS</td>\n",
              "    </tr>\n",
              "    <tr>\n",
              "      <th>2</th>\n",
              "      <td>6.0</td>\n",
              "      <td>Ada</td>\n",
              "      <td>Tinggi</td>\n",
              "      <td>27.0</td>\n",
              "      <td>11.0</td>\n",
              "      <td>491</td>\n",
              "      <td>Hidupkan Lampu dan Pompa nutrisi TDS</td>\n",
              "    </tr>\n",
              "    <tr>\n",
              "      <th>3</th>\n",
              "      <td>6.5</td>\n",
              "      <td>Ada</td>\n",
              "      <td>Tinggi</td>\n",
              "      <td>27.1</td>\n",
              "      <td>345.0</td>\n",
              "      <td>12000</td>\n",
              "      <td>Tidak melakukan apa-apa</td>\n",
              "    </tr>\n",
              "    <tr>\n",
              "      <th>4</th>\n",
              "      <td>6.2</td>\n",
              "      <td>NaN</td>\n",
              "      <td>Tinggi</td>\n",
              "      <td>27.1</td>\n",
              "      <td>602.0</td>\n",
              "      <td>444</td>\n",
              "      <td>Tidak melakukan apa-apa</td>\n",
              "    </tr>\n",
              "  </tbody>\n",
              "</table>\n",
              "</div>"
            ],
            "text/plain": [
              "    PH cahaya  ... tinggi_air                                  aksi\n",
              "0  6.5    Ada  ...        622  Hidupkan Lampu dan Pompa nutrisi TDS\n",
              "1  5.7    Ada  ...        557  Hidupkan Lampu dan Pompa nutrisi TDS\n",
              "2  6.0    Ada  ...        491  Hidupkan Lampu dan Pompa nutrisi TDS\n",
              "3  6.5    Ada  ...      12000               Tidak melakukan apa-apa\n",
              "4  6.2    NaN  ...        444               Tidak melakukan apa-apa\n",
              "\n",
              "[5 rows x 7 columns]"
            ]
          },
          "metadata": {},
          "execution_count": 132
        }
      ]
    },
    {
      "cell_type": "markdown",
      "metadata": {
        "id": "vCYDhpdfa9Vt"
      },
      "source": [
        "## 2. Mengganti data kategorikal menjadi bentuk numerical (Clue : Labelencoder tidak bekerja ketika ada missing value, gunakan metode lain)"
      ]
    },
    {
      "cell_type": "code",
      "metadata": {
        "colab": {
          "base_uri": "https://localhost:8080/"
        },
        "id": "OP8S9qiYNR4q",
        "outputId": "5fa0a6bf-52a9-4eba-91f3-cdcb69d5a794"
      },
      "source": [
        "data.dtypes"
      ],
      "execution_count": null,
      "outputs": [
        {
          "output_type": "execute_result",
          "data": {
            "text/plain": [
              "PH                float64\n",
              "cahaya             object\n",
              "intensitas_air     object\n",
              "suhu              float64\n",
              "PPM               float64\n",
              "tinggi_air          int64\n",
              "aksi               object\n",
              "dtype: object"
            ]
          },
          "metadata": {},
          "execution_count": 133
        }
      ]
    },
    {
      "cell_type": "code",
      "metadata": {
        "id": "HNAJfwlCa9Vu",
        "colab": {
          "base_uri": "https://localhost:8080/"
        },
        "outputId": "6e1ab8f1-1942-4a23-dd60-b41754e08fca"
      },
      "source": [
        "#Isi Code\n",
        "data[\"cahaya\"].value_counts()"
      ],
      "execution_count": null,
      "outputs": [
        {
          "output_type": "execute_result",
          "data": {
            "text/plain": [
              "Ada          302\n",
              "Tidak ada    288\n",
              "Name: cahaya, dtype: int64"
            ]
          },
          "metadata": {},
          "execution_count": 134
        }
      ]
    },
    {
      "cell_type": "code",
      "metadata": {
        "colab": {
          "base_uri": "https://localhost:8080/"
        },
        "id": "7NQWVuczdrLl",
        "outputId": "528a8e6f-40e0-4b94-910c-61ef329f1e96"
      },
      "source": [
        "data[\"intensitas_air\"].value_counts()"
      ],
      "execution_count": null,
      "outputs": [
        {
          "output_type": "execute_result",
          "data": {
            "text/plain": [
              "Cukup            154\n",
              "Tinggi           154\n",
              "Rendah           154\n",
              "Rendah sekali    154\n",
              "Name: intensitas_air, dtype: int64"
            ]
          },
          "metadata": {},
          "execution_count": 135
        }
      ]
    },
    {
      "cell_type": "code",
      "metadata": {
        "colab": {
          "base_uri": "https://localhost:8080/"
        },
        "id": "dA62shwRdvnC",
        "outputId": "efeb76a9-236e-4828-e775-e6836ce589ce"
      },
      "source": [
        "data['aksi'].value_counts()"
      ],
      "execution_count": null,
      "outputs": [
        {
          "output_type": "execute_result",
          "data": {
            "text/plain": [
              "Tidak melakukan apa-apa                 473\n",
              "Hidupkan Lampu                           92\n",
              "Hidupkan Lampu dan Pompa nutrisi TDS     39\n",
              "Hidupkan Pompa nutrisi TDS               12\n",
              "Name: aksi, dtype: int64"
            ]
          },
          "metadata": {},
          "execution_count": 136
        }
      ]
    },
    {
      "cell_type": "code",
      "metadata": {
        "colab": {
          "base_uri": "https://localhost:8080/",
          "height": 204
        },
        "id": "Z5zSok_Bdvd7",
        "outputId": "80ce86c9-ae13-45ba-c1e0-98becca08982"
      },
      "source": [
        "data.head()"
      ],
      "execution_count": null,
      "outputs": [
        {
          "output_type": "execute_result",
          "data": {
            "text/html": [
              "<div>\n",
              "<style scoped>\n",
              "    .dataframe tbody tr th:only-of-type {\n",
              "        vertical-align: middle;\n",
              "    }\n",
              "\n",
              "    .dataframe tbody tr th {\n",
              "        vertical-align: top;\n",
              "    }\n",
              "\n",
              "    .dataframe thead th {\n",
              "        text-align: right;\n",
              "    }\n",
              "</style>\n",
              "<table border=\"1\" class=\"dataframe\">\n",
              "  <thead>\n",
              "    <tr style=\"text-align: right;\">\n",
              "      <th></th>\n",
              "      <th>PH</th>\n",
              "      <th>cahaya</th>\n",
              "      <th>intensitas_air</th>\n",
              "      <th>suhu</th>\n",
              "      <th>PPM</th>\n",
              "      <th>tinggi_air</th>\n",
              "      <th>aksi</th>\n",
              "    </tr>\n",
              "  </thead>\n",
              "  <tbody>\n",
              "    <tr>\n",
              "      <th>0</th>\n",
              "      <td>6.5</td>\n",
              "      <td>Ada</td>\n",
              "      <td>Tinggi</td>\n",
              "      <td>27.0</td>\n",
              "      <td>188.0</td>\n",
              "      <td>622</td>\n",
              "      <td>Hidupkan Lampu dan Pompa nutrisi TDS</td>\n",
              "    </tr>\n",
              "    <tr>\n",
              "      <th>1</th>\n",
              "      <td>5.7</td>\n",
              "      <td>Ada</td>\n",
              "      <td>Tinggi</td>\n",
              "      <td>26.9</td>\n",
              "      <td>79.0</td>\n",
              "      <td>557</td>\n",
              "      <td>Hidupkan Lampu dan Pompa nutrisi TDS</td>\n",
              "    </tr>\n",
              "    <tr>\n",
              "      <th>2</th>\n",
              "      <td>6.0</td>\n",
              "      <td>Ada</td>\n",
              "      <td>Tinggi</td>\n",
              "      <td>27.0</td>\n",
              "      <td>11.0</td>\n",
              "      <td>491</td>\n",
              "      <td>Hidupkan Lampu dan Pompa nutrisi TDS</td>\n",
              "    </tr>\n",
              "    <tr>\n",
              "      <th>3</th>\n",
              "      <td>6.5</td>\n",
              "      <td>Ada</td>\n",
              "      <td>Tinggi</td>\n",
              "      <td>27.1</td>\n",
              "      <td>345.0</td>\n",
              "      <td>12000</td>\n",
              "      <td>Tidak melakukan apa-apa</td>\n",
              "    </tr>\n",
              "    <tr>\n",
              "      <th>4</th>\n",
              "      <td>6.2</td>\n",
              "      <td>NaN</td>\n",
              "      <td>Tinggi</td>\n",
              "      <td>27.1</td>\n",
              "      <td>602.0</td>\n",
              "      <td>444</td>\n",
              "      <td>Tidak melakukan apa-apa</td>\n",
              "    </tr>\n",
              "  </tbody>\n",
              "</table>\n",
              "</div>"
            ],
            "text/plain": [
              "    PH cahaya  ... tinggi_air                                  aksi\n",
              "0  6.5    Ada  ...        622  Hidupkan Lampu dan Pompa nutrisi TDS\n",
              "1  5.7    Ada  ...        557  Hidupkan Lampu dan Pompa nutrisi TDS\n",
              "2  6.0    Ada  ...        491  Hidupkan Lampu dan Pompa nutrisi TDS\n",
              "3  6.5    Ada  ...      12000               Tidak melakukan apa-apa\n",
              "4  6.2    NaN  ...        444               Tidak melakukan apa-apa\n",
              "\n",
              "[5 rows x 7 columns]"
            ]
          },
          "metadata": {},
          "execution_count": 137
        }
      ]
    },
    {
      "cell_type": "code",
      "metadata": {
        "id": "j-4jfy_AeBkc"
      },
      "source": [
        "kategorikal = {\"cahaya\":     {\"Tidak ada\": 0, \"Ada\": 1},\n",
        "               \"intensitas_air\": {\"Rendah Sekali\": 0, \"Rendah\": 1, \"Cukup\": 2, \"Tinggi\": 3,},\n",
        "\t\t\"aksi\" : {\"Tidak melakukan apa-apa\" : 0, \"Hidupkan Lampu\" : 1, \"Hidupkan Lampu dan Pompa nutrisi TDS\" : 2, \"Hidupkan Pompa nutrisi TDS\" : 3},}"
      ],
      "execution_count": null,
      "outputs": []
    },
    {
      "cell_type": "code",
      "metadata": {
        "colab": {
          "base_uri": "https://localhost:8080/",
          "height": 204
        },
        "id": "xsi5jqyFfbnY",
        "outputId": "78fe6bcb-b571-49ed-b518-3d53fe3ffc4f"
      },
      "source": [
        "data = data.replace(kategorikal)\n",
        "data.head()"
      ],
      "execution_count": null,
      "outputs": [
        {
          "output_type": "execute_result",
          "data": {
            "text/html": [
              "<div>\n",
              "<style scoped>\n",
              "    .dataframe tbody tr th:only-of-type {\n",
              "        vertical-align: middle;\n",
              "    }\n",
              "\n",
              "    .dataframe tbody tr th {\n",
              "        vertical-align: top;\n",
              "    }\n",
              "\n",
              "    .dataframe thead th {\n",
              "        text-align: right;\n",
              "    }\n",
              "</style>\n",
              "<table border=\"1\" class=\"dataframe\">\n",
              "  <thead>\n",
              "    <tr style=\"text-align: right;\">\n",
              "      <th></th>\n",
              "      <th>PH</th>\n",
              "      <th>cahaya</th>\n",
              "      <th>intensitas_air</th>\n",
              "      <th>suhu</th>\n",
              "      <th>PPM</th>\n",
              "      <th>tinggi_air</th>\n",
              "      <th>aksi</th>\n",
              "    </tr>\n",
              "  </thead>\n",
              "  <tbody>\n",
              "    <tr>\n",
              "      <th>0</th>\n",
              "      <td>6.5</td>\n",
              "      <td>1.0</td>\n",
              "      <td>3</td>\n",
              "      <td>27.0</td>\n",
              "      <td>188.0</td>\n",
              "      <td>622</td>\n",
              "      <td>2</td>\n",
              "    </tr>\n",
              "    <tr>\n",
              "      <th>1</th>\n",
              "      <td>5.7</td>\n",
              "      <td>1.0</td>\n",
              "      <td>3</td>\n",
              "      <td>26.9</td>\n",
              "      <td>79.0</td>\n",
              "      <td>557</td>\n",
              "      <td>2</td>\n",
              "    </tr>\n",
              "    <tr>\n",
              "      <th>2</th>\n",
              "      <td>6.0</td>\n",
              "      <td>1.0</td>\n",
              "      <td>3</td>\n",
              "      <td>27.0</td>\n",
              "      <td>11.0</td>\n",
              "      <td>491</td>\n",
              "      <td>2</td>\n",
              "    </tr>\n",
              "    <tr>\n",
              "      <th>3</th>\n",
              "      <td>6.5</td>\n",
              "      <td>1.0</td>\n",
              "      <td>3</td>\n",
              "      <td>27.1</td>\n",
              "      <td>345.0</td>\n",
              "      <td>12000</td>\n",
              "      <td>0</td>\n",
              "    </tr>\n",
              "    <tr>\n",
              "      <th>4</th>\n",
              "      <td>6.2</td>\n",
              "      <td>NaN</td>\n",
              "      <td>3</td>\n",
              "      <td>27.1</td>\n",
              "      <td>602.0</td>\n",
              "      <td>444</td>\n",
              "      <td>0</td>\n",
              "    </tr>\n",
              "  </tbody>\n",
              "</table>\n",
              "</div>"
            ],
            "text/plain": [
              "    PH  cahaya intensitas_air  suhu    PPM  tinggi_air  aksi\n",
              "0  6.5     1.0              3  27.0  188.0         622     2\n",
              "1  5.7     1.0              3  26.9   79.0         557     2\n",
              "2  6.0     1.0              3  27.0   11.0         491     2\n",
              "3  6.5     1.0              3  27.1  345.0       12000     0\n",
              "4  6.2     NaN              3  27.1  602.0         444     0"
            ]
          },
          "metadata": {},
          "execution_count": 138
        }
      ]
    },
    {
      "cell_type": "markdown",
      "metadata": {
        "id": "W5Ka60uYa9Vv"
      },
      "source": [
        "## 3. Handle Missing Value"
      ]
    },
    {
      "cell_type": "code",
      "metadata": {
        "id": "z6BbPoqPa9Vv",
        "colab": {
          "base_uri": "https://localhost:8080/"
        },
        "outputId": "257b1a6e-e32e-445a-abac-0c6552423361"
      },
      "source": [
        "#Isi Code\n",
        "data.isnull().sum()"
      ],
      "execution_count": null,
      "outputs": [
        {
          "output_type": "execute_result",
          "data": {
            "text/plain": [
              "PH                16\n",
              "cahaya            26\n",
              "intensitas_air     0\n",
              "suhu              27\n",
              "PPM                5\n",
              "tinggi_air         0\n",
              "aksi               0\n",
              "dtype: int64"
            ]
          },
          "metadata": {},
          "execution_count": 139
        }
      ]
    },
    {
      "cell_type": "code",
      "metadata": {
        "colab": {
          "base_uri": "https://localhost:8080/"
        },
        "id": "P3pUBlOhPnQS",
        "outputId": "aeaeb181-3f25-41a7-d31b-f6145ed27dfe"
      },
      "source": [
        "data.isnull().sum().sum()"
      ],
      "execution_count": null,
      "outputs": [
        {
          "output_type": "execute_result",
          "data": {
            "text/plain": [
              "74"
            ]
          },
          "metadata": {},
          "execution_count": 140
        }
      ]
    },
    {
      "cell_type": "markdown",
      "metadata": {
        "id": "GELQ5uyda9Vw"
      },
      "source": [
        "## 4. Detect outliers dan handling (bisa dihapus atau diganti nilainya dengan mean/modus/median)"
      ]
    },
    {
      "cell_type": "code",
      "metadata": {
        "id": "ll-868ipa9Vx",
        "colab": {
          "base_uri": "https://localhost:8080/",
          "height": 320
        },
        "outputId": "1be006f5-ee26-4ce4-f193-e08cca546323"
      },
      "source": [
        "#Isi Code\n",
        "data.boxplot()\n",
        "plt.show()"
      ],
      "execution_count": null,
      "outputs": [
        {
          "output_type": "stream",
          "name": "stderr",
          "text": [
            "/usr/local/lib/python3.7/dist-packages/numpy/core/_asarray.py:83: VisibleDeprecationWarning: Creating an ndarray from ragged nested sequences (which is a list-or-tuple of lists-or-tuples-or ndarrays with different lengths or shapes) is deprecated. If you meant to do this, you must specify 'dtype=object' when creating the ndarray\n",
            "  return array(a, dtype, copy=False, order=order)\n"
          ]
        },
        {
          "output_type": "display_data",
          "data": {
            "image/png": "[encoded data removed]",
            "text/plain": [
              "<Figure size 432x288 with 1 Axes>"
            ]
          },
          "metadata": {
            "needs_background": "light"
          }
        }
      ]
    },
    {
      "cell_type": "code",
      "metadata": {
        "colab": {
          "base_uri": "https://localhost:8080/"
        },
        "id": "DHNEHMj_RFeG",
        "outputId": "5de3fbab-c732-4e21-f894-205edaf9042c"
      },
      "source": [
        "data['PH']=data['PH'].fillna(data['PH'].mean())\n",
        "data.isnull().sum()"
      ],
      "execution_count": null,
      "outputs": [
        {
          "output_type": "execute_result",
          "data": {
            "text/plain": [
              "PH                 0\n",
              "cahaya            26\n",
              "intensitas_air     0\n",
              "suhu              27\n",
              "PPM                5\n",
              "tinggi_air         0\n",
              "aksi               0\n",
              "dtype: int64"
            ]
          },
          "metadata": {},
          "execution_count": 142
        }
      ]
    },
    {
      "cell_type": "code",
      "metadata": {
        "colab": {
          "base_uri": "https://localhost:8080/"
        },
        "id": "FW-lUgn9Rp8E",
        "outputId": "16c4457d-9369-484e-9f20-9a791b18e593"
      },
      "source": [
        "data['cahaya'].fillna(method='bfill', inplace=True)\n",
        "data.isnull().sum()"
      ],
      "execution_count": null,
      "outputs": [
        {
          "output_type": "execute_result",
          "data": {
            "text/plain": [
              "PH                 0\n",
              "cahaya             0\n",
              "intensitas_air     0\n",
              "suhu              27\n",
              "PPM                5\n",
              "tinggi_air         0\n",
              "aksi               0\n",
              "dtype: int64"
            ]
          },
          "metadata": {},
          "execution_count": 143
        }
      ]
    },
    {
      "cell_type": "code",
      "metadata": {
        "colab": {
          "base_uri": "https://localhost:8080/"
        },
        "id": "YRtlmscDR9gV",
        "outputId": "2f2497ab-cc6d-44a1-a784-b08ac47e2850"
      },
      "source": [
        "data['cahaya'].head(187)"
      ],
      "execution_count": null,
      "outputs": [
        {
          "output_type": "execute_result",
          "data": {
            "text/plain": [
              "0      1.0\n",
              "1      1.0\n",
              "2      1.0\n",
              "3      1.0\n",
              "4      1.0\n",
              "      ... \n",
              "182    0.0\n",
              "183    0.0\n",
              "184    0.0\n",
              "185    0.0\n",
              "186    0.0\n",
              "Name: cahaya, Length: 187, dtype: float64"
            ]
          },
          "metadata": {},
          "execution_count": 144
        }
      ]
    },
    {
      "cell_type": "code",
      "metadata": {
        "colab": {
          "base_uri": "https://localhost:8080/"
        },
        "id": "GS5xvQbJSXSI",
        "outputId": "c834f5e3-a2ee-4d1c-8526-5e154ab93de8"
      },
      "source": [
        "data['suhu'].describe()"
      ],
      "execution_count": null,
      "outputs": [
        {
          "output_type": "execute_result",
          "data": {
            "text/plain": [
              "count    589.000000\n",
              "mean      29.364007\n",
              "std       14.937524\n",
              "min     -300.000000\n",
              "25%       27.100000\n",
              "50%       29.900000\n",
              "75%       33.000000\n",
              "max       40.600000\n",
              "Name: suhu, dtype: float64"
            ]
          },
          "metadata": {},
          "execution_count": 145
        }
      ]
    },
    {
      "cell_type": "code",
      "metadata": {
        "id": "PveWJ6q2SXNw"
      },
      "source": [
        "data.drop([109,118], axis=0, inplace=True)"
      ],
      "execution_count": null,
      "outputs": []
    },
    {
      "cell_type": "code",
      "metadata": {
        "colab": {
          "base_uri": "https://localhost:8080/"
        },
        "id": "-6IBaA-XSXKJ",
        "outputId": "fa0ca837-a40f-4fb5-ff1e-2cc45caffdd2"
      },
      "source": [
        "data['suhu'].describe()"
      ],
      "execution_count": null,
      "outputs": [
        {
          "output_type": "execute_result",
          "data": {
            "text/plain": [
              "count    587.000000\n",
              "mean      30.145486\n",
              "std        3.098507\n",
              "min       25.000000\n",
              "25%       27.100000\n",
              "50%       29.900000\n",
              "75%       33.000000\n",
              "max       40.600000\n",
              "Name: suhu, dtype: float64"
            ]
          },
          "metadata": {},
          "execution_count": 147
        }
      ]
    },
    {
      "cell_type": "code",
      "metadata": {
        "colab": {
          "base_uri": "https://localhost:8080/"
        },
        "id": "BS0wN9NASW-U",
        "outputId": "9565df59-0b01-4fb3-e6f3-2e67c67eb39c"
      },
      "source": [
        "data['suhu']=data['suhu'].fillna(data['suhu'].mean())\n",
        "data.isnull().sum()"
      ],
      "execution_count": null,
      "outputs": [
        {
          "output_type": "execute_result",
          "data": {
            "text/plain": [
              "PH                0\n",
              "cahaya            0\n",
              "intensitas_air    0\n",
              "suhu              0\n",
              "PPM               5\n",
              "tinggi_air        0\n",
              "aksi              0\n",
              "dtype: int64"
            ]
          },
          "metadata": {},
          "execution_count": 148
        }
      ]
    },
    {
      "cell_type": "code",
      "metadata": {
        "colab": {
          "base_uri": "https://localhost:8080/"
        },
        "id": "kSqVxQ1LYIuY",
        "outputId": "c6a6e8e8-28bd-476f-a353-88266bca320d"
      },
      "source": [
        "data['PPM']=data['PPM'].fillna(data['PPM'].median())\n",
        "data.isnull().sum()"
      ],
      "execution_count": null,
      "outputs": [
        {
          "output_type": "execute_result",
          "data": {
            "text/plain": [
              "PH                0\n",
              "cahaya            0\n",
              "intensitas_air    0\n",
              "suhu              0\n",
              "PPM               0\n",
              "tinggi_air        0\n",
              "aksi              0\n",
              "dtype: int64"
            ]
          },
          "metadata": {},
          "execution_count": 149
        }
      ]
    },
    {
      "cell_type": "code",
      "metadata": {
        "colab": {
          "base_uri": "https://localhost:8080/"
        },
        "id": "bBBPKNjiYrcp",
        "outputId": "d8b4a683-cf15-4e05-b7a3-d966db876103"
      },
      "source": [
        "data['tinggi_air'].describe()"
      ],
      "execution_count": null,
      "outputs": [
        {
          "output_type": "execute_result",
          "data": {
            "text/plain": [
              "count      614.000000\n",
              "mean       287.442997\n",
              "std        623.307663\n",
              "min          0.000000\n",
              "25%         50.000000\n",
              "50%        228.500000\n",
              "75%        429.000000\n",
              "max      12000.000000\n",
              "Name: tinggi_air, dtype: float64"
            ]
          },
          "metadata": {},
          "execution_count": 150
        }
      ]
    },
    {
      "cell_type": "code",
      "metadata": {
        "colab": {
          "base_uri": "https://localhost:8080/"
        },
        "id": "GXKzLC0kY-5f",
        "outputId": "e2083526-bd29-49b8-a0f8-d4e74a95ed6d"
      },
      "source": [
        "data['tinggi_air'].iloc[[3,77]]"
      ],
      "execution_count": null,
      "outputs": [
        {
          "output_type": "execute_result",
          "data": {
            "text/plain": [
              "3     12000\n",
              "77     9000\n",
              "Name: tinggi_air, dtype: int64"
            ]
          },
          "metadata": {},
          "execution_count": 151
        }
      ]
    },
    {
      "cell_type": "code",
      "metadata": {
        "id": "PmtcWRKDY3Xq"
      },
      "source": [
        "data.drop([3,77], axis=0, inplace=True)"
      ],
      "execution_count": null,
      "outputs": []
    },
    {
      "cell_type": "code",
      "metadata": {
        "colab": {
          "base_uri": "https://localhost:8080/"
        },
        "id": "ZFbdi8GxZQgC",
        "outputId": "4351136e-f884-41a5-e5a0-f831e7383997"
      },
      "source": [
        "data['tinggi_air'].describe()"
      ],
      "execution_count": null,
      "outputs": [
        {
          "output_type": "execute_result",
          "data": {
            "text/plain": [
              "count    612.000000\n",
              "mean     254.068627\n",
              "std      199.769962\n",
              "min        0.000000\n",
              "25%       50.000000\n",
              "50%      226.500000\n",
              "75%      429.000000\n",
              "max      629.000000\n",
              "Name: tinggi_air, dtype: float64"
            ]
          },
          "metadata": {},
          "execution_count": 153
        }
      ]
    },
    {
      "cell_type": "code",
      "metadata": {
        "colab": {
          "base_uri": "https://localhost:8080/",
          "height": 266
        },
        "id": "f7z1V1QJZGzg",
        "outputId": "e055e5ef-b6b5-4a12-d6a1-6917c8027844"
      },
      "source": [
        "data.boxplot()\n",
        "plt.show()"
      ],
      "execution_count": null,
      "outputs": [
        {
          "output_type": "display_data",
          "data": {
            "image/png": "[encoded data removed]",
            "text/plain": [
              "<Figure size 432x288 with 1 Axes>"
            ]
          },
          "metadata": {
            "needs_background": "light"
          }
        }
      ]
    },
    {
      "cell_type": "markdown",
      "metadata": {
        "id": "EFQ0YfYLa9Vy"
      },
      "source": [
        "\n",
        "\n",
        "\n",
        "## 5. Pisahkan data feature dengan label"
      ]
    },
    {
      "cell_type": "code",
      "metadata": {
        "id": "Jjxt06KTa9Vy"
      },
      "source": [
        "#Isi Code\n",
        "from sklearn.preprocessing import LabelEncoder\n",
        "LE = LabelEncoder()\n",
        "data['PPM'] = LE.fit_transform(data['PPM'])\n",
        "LE = LabelEncoder()\n",
        "data['aksi'] = LE.fit_transform(data['aksi'])"
      ],
      "execution_count": null,
      "outputs": []
    },
    {
      "cell_type": "code",
      "metadata": {
        "colab": {
          "base_uri": "https://localhost:8080/"
        },
        "id": "my0sZ4uLibNK",
        "outputId": "c94d09c0-e64f-4fef-d42d-cf3258a79383"
      },
      "source": [
        "X = data['PPM']\n",
        "y = data['aksi']\n",
        "\n",
        "from sklearn.model_selection import train_test_split\n",
        "# splitting the X, and y\n",
        "X_train, X_test, y_train, y_test = train_test_split(X, y, test_size = 0.2, random_state = 0)\n",
        "# checking the shapes\n",
        "print(\"Shape of X_train :\", X_train.shape)\n",
        "print(\"Shape of y_train :\", y_train.shape)\n",
        "print(\"Shape of X_test :\", X_test.shape)\n",
        "print(\"Shape of y_test :\", y_test.shape)"
      ],
      "execution_count": null,
      "outputs": [
        {
          "output_type": "stream",
          "name": "stdout",
          "text": [
            "Shape of X_train : (489,)\n",
            "Shape of y_train : (489,)\n",
            "Shape of X_test : (123,)\n",
            "Shape of y_test : (123,)\n"
          ]
        }
      ]
    },
    {
      "cell_type": "markdown",
      "metadata": {
        "id": "YCGKwPFra9Vz"
      },
      "source": [
        "## 6. Check Imbalanced Dataset, jika imbalanced, gunakan smote"
      ]
    },
    {
      "cell_type": "code",
      "metadata": {
        "id": "5YI-izdXa9V0"
      },
      "source": [
        "#pip install imbalanced-learn"
      ],
      "execution_count": null,
      "outputs": []
    },
    {
      "cell_type": "code",
      "metadata": {
        "id": "DIfkA5_da9V0"
      },
      "source": [
        "#Isi Code"
      ],
      "execution_count": null,
      "outputs": []
    },
    {
      "cell_type": "markdown",
      "metadata": {
        "id": "2gLiWKVza9V1"
      },
      "source": [
        "## 7. Visualisasikan Tiap feature dengan label"
      ]
    },
    {
      "cell_type": "code",
      "metadata": {
        "id": "hJMzN-gMa9V2"
      },
      "source": [
        "#Isi Code"
      ],
      "execution_count": null,
      "outputs": []
    },
    {
      "cell_type": "markdown",
      "metadata": {
        "id": "byMOPkmra9V2"
      },
      "source": [
        "## 8. Lakukan Normalization menggunakan MinMaxScaler atau Standardization menggunakan StandarScaler"
      ]
    },
    {
      "cell_type": "code",
      "metadata": {
        "id": "i0XxulQra9V3"
      },
      "source": [
        "#Isi Kode"
      ],
      "execution_count": null,
      "outputs": []
    },
    {
      "cell_type": "markdown",
      "metadata": {
        "id": "FJpwBxZfa9V3"
      },
      "source": [
        "## 9. Buat model ANN"
      ]
    },
    {
      "cell_type": "code",
      "metadata": {
        "id": "1Zo0ODA8a9V4"
      },
      "source": [
        "#Isi Code"
      ],
      "execution_count": null,
      "outputs": []
    },
    {
      "cell_type": "markdown",
      "metadata": {
        "id": "ZVuY2QdwW6dO"
      },
      "source": [
        "## 10. Build Model KNN"
      ]
    },
    {
      "cell_type": "code",
      "metadata": {
        "id": "Dks_OpdeW9fY"
      },
      "source": [
        ""
      ],
      "execution_count": null,
      "outputs": []
    }
  ]
}