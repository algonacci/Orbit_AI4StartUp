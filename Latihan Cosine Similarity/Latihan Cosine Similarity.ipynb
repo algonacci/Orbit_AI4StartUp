{
 "cells": [
  {
   "cell_type": "code",
   "execution_count": null,
   "id": "9a1a51a6",
   "metadata": {},
   "outputs": [],
   "source": [
    "import pandas as pd\n",
    "import nltk\n",
    "import re\n",
    "from sklearn.feature_extraction.text import CountVectorizer\n",
    "import requests"
   ]
  },
  {
   "cell_type": "code",
   "execution_count": null,
   "id": "2a352fde",
   "metadata": {},
   "outputs": [],
   "source": [
    "paragraf = requests.get('https://github.com/rasyidev/well-known-datasets/raw/main/rendang.txt').text\n",
    "paragraf"
   ]
  },
  {
   "cell_type": "code",
   "execution_count": null,
   "id": "78e91df8",
   "metadata": {},
   "outputs": [],
   "source": [
    "kalimat = nltk.sent_tokenize(paragraf)\n",
    "tabel_kata = []\n",
    "kalimat"
   ]
  },
  {
   "cell_type": "code",
   "execution_count": null,
   "id": "ecd4e49f",
   "metadata": {},
   "outputs": [],
   "source": [
    "for i in range(len(kalimat)):\n",
    "    kata = re.sub('[^a-zA-Z]', ' ', kalimat[i])\n",
    "    kata = kata.lower()\n",
    "    kata = kata.split()\n",
    "    kata = ' '.join(kata)\n",
    "    tabel_kata.append(kata)"
   ]
  },
  {
   "cell_type": "code",
   "execution_count": null,
   "id": "4d0b6bfd",
   "metadata": {},
   "outputs": [],
   "source": [
    "tabel_kata"
   ]
  },
  {
   "cell_type": "code",
   "execution_count": null,
   "id": "475d192d",
   "metadata": {},
   "outputs": [],
   "source": [
    "cv = CountVectorizer()\n",
    "X = cv.fit_transform(tabel_kata).toarray()\n",
    "X"
   ]
  },
  {
   "cell_type": "code",
   "execution_count": null,
   "id": "c0c74624",
   "metadata": {},
   "outputs": [],
   "source": [
    "from scipy import spatial\n",
    "List1 = X[0]\n",
    "List2 = X[1]\n",
    "List3 = X[2]\n",
    "List4 = X[3]\n",
    "List5 = X[4]\n",
    "List6 = X[5]\n",
    "List7 = X[6]\n",
    "List8 = X[7]\n",
    "List9 = X[8]\n",
    "List10 = X[9]\n",
    "List11 = X[10]\n",
    "List12 = X[11]\n",
    "List13 = X[12]\n",
    "List14 = X[13]\n",
    "List15 = X[14]\n",
    "List16 = X[15]\n",
    "List17 = X[16]\n",
    "List18 = X[17]\n",
    "List19 = X[18]\n",
    "List20 = X[19]\n",
    "\n",
    "result = 1 - spatial.distance.cosine(List3, List4, List5)\n",
    "print(result)"
   ]
  },
  {
   "cell_type": "code",
   "execution_count": null,
   "id": "a6fb1fc9",
   "metadata": {},
   "outputs": [],
   "source": [
    "index = ['Kalimat 1',\n",
    "         'Kalimat 2',\n",
    "         'Kalimat 3',\n",
    "         'Kalimat 4',\n",
    "         'Kalimat 5',\n",
    "         'Kalimat 6',\n",
    "         'Kalimat 7',\n",
    "         'Kalimat 8',\n",
    "         'Kalimat 9',\n",
    "         'Kalimat 10',\n",
    "         'Kalimat 11',\n",
    "         'Kalimat 12',\n",
    "         'Kalimat 13',\n",
    "         'Kalimat 14',\n",
    "         'Kalimat 15',\n",
    "         'Kalimat 16',\n",
    "         'Kalimat 17',\n",
    "         'Kalimat 18',\n",
    "         'Kalimat 19',\n",
    "         'Kalimat 20']"
   ]
  },
  {
   "cell_type": "code",
   "execution_count": null,
   "id": "e18d9c6e",
   "metadata": {},
   "outputs": [],
   "source": [
    "kata_kata = cv.get_feature_names()\n",
    "bow = pd.DataFrame(X, columns=kata_kata, index=index)\n",
    "pd.set_option(\"display.max_columns\", None)\n",
    "bow"
   ]
  },
  {
   "cell_type": "code",
   "execution_count": null,
   "id": "99f0aeab",
   "metadata": {},
   "outputs": [],
   "source": [
    "from wordcloud import WordCloud, STOPWORDS, ImageColorGenerator\n",
    "import matplotlib.pyplot as plt\n",
    "\n",
    "# Start with one review:\n",
    "text = str(kata_kata).replace(\"'\",\"\")\n",
    "\n",
    "# Create and generate a word cloud image:\n",
    "wordcloud = WordCloud(max_font_size=50, max_words=100, background_color=\"white\", prefer_horizontal=0.70).generate(text)\n",
    "plt.figure(figsize=(10,50))\n",
    "plt.imshow(wordcloud, interpolation=\"bilinear\")\n",
    "plt.title(\"Kamus Kata\", fontsize=30)\n",
    "plt.axis(\"off\")\n",
    "plt.show()"
   ]
  },
  {
   "cell_type": "code",
   "execution_count": null,
   "id": "63ca613b",
   "metadata": {},
   "outputs": [],
   "source": [
    "tabel_bow = pd.DataFrame(bow.sum())\n",
    "pd.set_option(\"display.max_rows\", None)\n",
    "tabel_bow"
   ]
  },
  {
   "cell_type": "code",
   "execution_count": null,
   "id": "4d857236",
   "metadata": {},
   "outputs": [],
   "source": [
    "bow.sum().sum()"
   ]
  },
  {
   "cell_type": "code",
   "execution_count": null,
   "id": "41f8e0a5",
   "metadata": {},
   "outputs": [],
   "source": []
  }
 ],
 "metadata": {
  "kernelspec": {
   "display_name": "Python 3 (ipykernel)",
   "language": "python",
   "name": "python3"
  },
  "language_info": {
   "codemirror_mode": {
    "name": "ipython",
    "version": 3
   },
   "file_extension": ".py",
   "mimetype": "text/x-python",
   "name": "python",
   "nbconvert_exporter": "python",
   "pygments_lexer": "ipython3",
   "version": "3.9.6"
  }
 },
 "nbformat": 4,
 "nbformat_minor": 5
}
