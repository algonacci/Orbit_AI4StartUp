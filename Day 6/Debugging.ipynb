{
 "cells": [
  {
   "cell_type": "code",
   "execution_count": 1,
   "id": "8a42a790",
   "metadata": {},
   "outputs": [
    {
     "name": "stdout",
     "output_type": "stream",
     "text": [
      "31542.85714285714\n"
     ]
    }
   ],
   "source": [
    "data = [1,2,3,4,5,10,23]\n",
    "sum = 8\n",
    "for i in data:\n",
    "    sum = sum*i\n",
    "    \n",
    "rata_rata = sum/len(data)\n",
    "print(rata_rata)"
   ]
  },
  {
   "cell_type": "code",
   "execution_count": 2,
   "id": "9e3d863e",
   "metadata": {},
   "outputs": [
    {
     "name": "stdout",
     "output_type": "stream",
     "text": [
      "sum:  8\n",
      "i : 1\n",
      "sum setelah operasi:  8\n",
      "sum:  8\n",
      "i : 2\n",
      "sum setelah operasi:  16\n",
      "sum:  16\n",
      "i : 3\n",
      "sum setelah operasi:  48\n",
      "sum:  48\n",
      "i : 4\n",
      "sum setelah operasi:  192\n",
      "sum:  192\n",
      "i : 5\n",
      "sum setelah operasi:  960\n",
      "sum:  960\n",
      "i : 10\n",
      "sum setelah operasi:  9600\n",
      "sum:  9600\n",
      "i : 23\n",
      "sum setelah operasi:  220800\n",
      "31542.85714285714\n"
     ]
    }
   ],
   "source": [
    "data = [1,2,3,4,5,10,23]\n",
    "sum = 8\n",
    "for i in data:\n",
    "    print(\"sum: \", sum)\n",
    "    print(\"i :\", i)\n",
    "    sum = sum*i\n",
    "    print(\"sum setelah operasi: \", sum)\n",
    "    \n",
    "rata_rata = sum/len(data)\n",
    "print(rata_rata)"
   ]
  },
  {
   "cell_type": "code",
   "execution_count": 32,
   "id": "d196af00",
   "metadata": {},
   "outputs": [
    {
     "name": "stdout",
     "output_type": "stream",
     "text": [
      "Ketemu 7 di index ke-5\n"
     ]
    },
    {
     "data": {
      "text/plain": [
       "5"
      ]
     },
     "execution_count": 32,
     "metadata": {},
     "output_type": "execute_result"
    }
   ],
   "source": [
    "def linear_search(search_key, arr):\n",
    "    for index, item in enumerate(arr):\n",
    "        if item == search_key:\n",
    "            print(f\"Ketemu {item} di index ke-{index}\")\n",
    "            return index\n",
    "        \n",
    "                  \n",
    "angka = [1,2,3,4,223,7,54,23]\n",
    "\n",
    "linear_search(7, angka)"
   ]
  },
  {
   "cell_type": "code",
   "execution_count": 47,
   "id": "51239cce",
   "metadata": {},
   "outputs": [
    {
     "data": {
      "image/png": "[encoded data removed]",
      "text/plain": [
       "<Figure size 720x432 with 1 Axes>"
      ]
     },
     "metadata": {
      "needs_background": "light"
     },
     "output_type": "display_data"
    }
   ],
   "source": [
    "import pandas as pd\n",
    "import matplotlib.pyplot as plt\n",
    "\n",
    "url = 'https://people.sc.fsu.edu/~jburkardt/data/csv/freshman_kgs.csv'\n",
    "file = 'freshman_kgs.csv'\n",
    "\n",
    "dataframe = pd.read_csv(url)\n",
    "\n",
    "dataframe[[' \"Weight (Sep)\"',' \"Weight (Apr)\"']].plot(kind='box', x=' \"Weight (Sep)\"', y=' \"Weight (Apr)\"',\n",
    "                                                        figsize=(10, 6), color='darkblue')\n",
    "\n",
    "plt.title(\"Hubungan berat badan bulan September dan April\", fontsize=40, fontname=\"MV Boli\")\n",
    "plt.ylabel(\"April\", fontsize = 10)\n",
    "plt.xlabel(\"September\", fontsize = 10)\n",
    "\n",
    "plt.show()"
   ]
  },
  {
   "cell_type": "code",
   "execution_count": 57,
   "id": "e27a98ce",
   "metadata": {},
   "outputs": [
    {
     "name": "stdout",
     "output_type": "stream",
     "text": [
      "lagi hujan ga? (y/n)y\n",
      "hujan:  True\n",
      "Masukkan kecepatan angin 24\n",
      "Gak bisa main layangan\n",
      "Gas main FF\n"
     ]
    }
   ],
   "source": [
    "def main_layangan():\n",
    "    hujan = input(\"lagi hujan ga? (y/n)\")\n",
    "    if hujan == 'y' or hujan == 'Y':\n",
    "        hujan = True\n",
    "    else:\n",
    "        hujan = False\n",
    "    \n",
    "    print('hujan: ',hujan)\n",
    "    \n",
    "    kecepatan_angin = float(input(\"Masukkan kecepatan angin \"))\n",
    "    \n",
    "    if hujan == True:\n",
    "        print(\"Gak bisa main layangan\")\n",
    "    else:\n",
    "        if kecepatan_angin > 5 and kecepatan_angin < 30:\n",
    "            print(\"Asyik, gas main layangan\")\n",
    "            return True\n",
    "        else:\n",
    "            print(\"Skip, mending main FF\")\n",
    "            return False\n",
    "        \n",
    "capek = main_layangan()\n",
    "\n",
    "if capek == True:\n",
    "    print(\"Waktunya istirahat\")\n",
    "else:\n",
    "    print(\"Gas main FF\")"
   ]
  },
  {
   "cell_type": "code",
   "execution_count": 52,
   "id": "59d1fb79",
   "metadata": {},
   "outputs": [
    {
     "name": "stdout",
     "output_type": "stream",
     "text": [
      "lagi hujan ga? (y/n)y\n",
      "hujan:  True\n",
      "Masukkan kecepatan angin 2\n",
      "Gak bisa main layanan\n"
     ]
    }
   ],
   "source": [
    "main_layangan()"
   ]
  },
  {
   "cell_type": "code",
   "execution_count": null,
   "id": "2d892770",
   "metadata": {},
   "outputs": [],
   "source": []
  },
  {
   "cell_type": "code",
   "execution_count": null,
   "id": "015758ea",
   "metadata": {},
   "outputs": [],
   "source": []
  },
  {
   "cell_type": "code",
   "execution_count": null,
   "id": "a8609fcb",
   "metadata": {},
   "outputs": [],
   "source": []
  },
  {
   "cell_type": "code",
   "execution_count": null,
   "id": "5444fd18",
   "metadata": {},
   "outputs": [],
   "source": []
  },
  {
   "cell_type": "code",
   "execution_count": null,
   "id": "69ec9f9f",
   "metadata": {},
   "outputs": [],
   "source": []
  }
 ],
 "metadata": {
  "kernelspec": {
   "display_name": "Python 3 (ipykernel)",
   "language": "python",
   "name": "python3"
  },
  "language_info": {
   "codemirror_mode": {
    "name": "ipython",
    "version": 3
   },
   "file_extension": ".py",
   "mimetype": "text/x-python",
   "name": "python",
   "nbconvert_exporter": "python",
   "pygments_lexer": "ipython3",
   "version": "3.9.6"
  }
 },
 "nbformat": 4,
 "nbformat_minor": 5
}
